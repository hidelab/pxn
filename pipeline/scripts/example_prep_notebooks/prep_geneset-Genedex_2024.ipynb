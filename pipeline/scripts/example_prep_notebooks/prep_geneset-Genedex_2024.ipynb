{
 "cells": [
  {
   "cell_type": "markdown",
   "id": "86a179d2-e6a8-4275-a2df-9bb7da30ba79",
   "metadata": {},
   "source": [
    "# Process Genedex 2024 version\n",
    "\n",
    "---\n",
    "\n",
    "This is an example notebook to generate the standard patwhay table expected by the first step of the pipeline using gene lists from Genedex. \n",
    "\n",
    "#### Table format\n",
    "\n",
    "The standard table must have only two columns named `set_name` and `genes` containing the gene set or pathway name and entrez gene IDs. If a gene set has 10 genes in it, there should be 10 rows for that particular gene set, all with the same gene set name. The genes MUST be represented with their Entrez ID. \n",
    "\n"
   ]
  },
  {
   "cell_type": "code",
   "execution_count": null,
   "id": "f4ee0b26-5d8b-473d-a6f9-ec31a107bff0",
   "metadata": {},
   "outputs": [],
   "source": [
    "suppressPackageStartupMessages({\n",
    "    library(dplyr)\n",
    "    library(plyr)\n",
    "    library(biomaRt)\n",
    "    library(data.table)\n",
    "})\n",
    "options(stringsAsFactors=FALSE)"
   ]
  },
  {
   "cell_type": "markdown",
   "id": "398fd6b4-f772-4de9-8e28-529575b10cda",
   "metadata": {},
   "source": [
    "### Input settings"
   ]
  },
  {
   "cell_type": "code",
   "execution_count": null,
   "id": "eee1807a-060b-4327-bb40-5b5d25183926",
   "metadata": {},
   "outputs": [],
   "source": [
    "# Unprocessed gene sets \n",
    "indir <- '~/projects/pdxn_2.0/data/gene_sets/genedex_2024/gene_lists'\n",
    "outfile<-'../../input/std_gene_tables/genedex_pathway_table.csv'"
   ]
  },
  {
   "cell_type": "markdown",
   "id": "073a6c65-6fc7-4b76-8c2c-db713558290f",
   "metadata": {},
   "source": [
    "### Load raw data"
   ]
  },
  {
   "cell_type": "code",
   "execution_count": null,
   "id": "4aa9ada3-f2ad-4108-b14c-68b89a2bbcd9",
   "metadata": {
    "scrolled": true
   },
   "outputs": [],
   "source": [
    "# Load gene lists\n",
    "gsfiles<-list.files(indir,full.names = T)\n",
    "names(gsfiles)<-sub('\\\\.txt','',basename(gsfiles))\n",
    "\n",
    "gs<-lapply(names(gsfiles),function(name){\n",
    "        df<-fread(gsfiles[[name]],header=TRUE,blank.lines.skip=TRUE,fill=TRUE) %>%\n",
    "            mutate(set_name=name)\n",
    "        return(df)\n",
    "    })\n",
    "gs_df<-do.call(rbind,gs) %>% as.data.frame()\n",
    "message('Total number of pathways in custom set = ',length(unique(gs_df$set_name)))"
   ]
  },
  {
   "cell_type": "markdown",
   "id": "70260a60-44d6-4c46-a144-9f4260aa0878",
   "metadata": {},
   "source": [
    "### Processing"
   ]
  },
  {
   "cell_type": "code",
   "execution_count": null,
   "id": "c9950e17-4702-4d3e-82f4-bd43aade53f8",
   "metadata": {},
   "outputs": [],
   "source": [
    "# Map gene symbol to entrez IDs\n",
    "allgenes <- unique(gs_df$GENE_SYMBOL)\n",
    "hsmart <- useMart(dataset = \"hsapiens_gene_ensembl\", biomart = \"ensembl\")\n",
    "mapping <- getBM(values = allgenes,\n",
    "                  attributes = c('hgnc_symbol','entrezgene_id'), \n",
    "                  filters = 'hgnc_symbol',\n",
    "                  mart = hsmart) %>%\n",
    "            dplyr::rename('GENE_SYMBOL'='hgnc_symbol',\n",
    "                           'genes'='entrezgene_id') %>%\n",
    "            group_by(genes) %>%\n",
    "            slice_min(n=1,order_by = GENE_SYMBOL) # In case of one-to-many mappings\n",
    "message('Uniquely mapped ',length(unique(mapping$genes)),' out of ', length(allgenes), ' gene symbols')"
   ]
  },
  {
   "cell_type": "code",
   "execution_count": null,
   "id": "b3a36418-61a1-4f53-b8e3-d347ec95ee67",
   "metadata": {},
   "outputs": [],
   "source": [
    "# Convert identifiers\n",
    "gs_df <- gs_df %>%\n",
    "         left_join(.,mapping,relationship = \"many-to-many\",by = join_by(GENE_SYMBOL)) %>%\n",
    "         dplyr::select(set_name,genes) %>%\n",
    "         distinct()"
   ]
  },
  {
   "cell_type": "markdown",
   "id": "677099bf-79b7-45db-bdd9-a8e8c8047ff3",
   "metadata": {},
   "source": [
    "### Visualize standard table"
   ]
  },
  {
   "cell_type": "code",
   "execution_count": null,
   "id": "9cbf9380-65a9-477a-8180-db213a91f22d",
   "metadata": {},
   "outputs": [],
   "source": [
    "head(gs_df)"
   ]
  },
  {
   "cell_type": "code",
   "execution_count": null,
   "id": "4590813e-8a29-401f-9bf5-d16c466114b5",
   "metadata": {},
   "outputs": [],
   "source": [
    "tail(gs_df)"
   ]
  },
  {
   "cell_type": "code",
   "execution_count": null,
   "id": "57d4b8a7-8de7-4a60-bf45-ef7364d0c0f6",
   "metadata": {},
   "outputs": [],
   "source": [
    "nrow(gs_df)"
   ]
  },
  {
   "cell_type": "code",
   "execution_count": null,
   "id": "643be8c4-923d-4dd7-97df-b6bbd6965890",
   "metadata": {},
   "outputs": [],
   "source": [
    "message('Total number of pathways = ',length(unique(gs_df$set_name)))\n",
    "message('Total number of unique genes = ',length(unique(gs_df$genes)))"
   ]
  },
  {
   "cell_type": "markdown",
   "id": "a6fa4bb3-e2ea-4744-ae9d-286e773154c9",
   "metadata": {},
   "source": [
    "### Write pathway table"
   ]
  },
  {
   "cell_type": "code",
   "execution_count": null,
   "id": "2f86df59-1bdb-4f08-a5ff-8e347a1d753e",
   "metadata": {},
   "outputs": [],
   "source": [
    "write.table(gs_df,\n",
    "            file = outfile,\n",
    "            quote = F,\n",
    "            sep = \",\",\n",
    "            row.names = F)"
   ]
  }
 ],
 "metadata": {
  "kernelspec": {
   "display_name": "R",
   "language": "R",
   "name": "ir"
  },
  "language_info": {
   "codemirror_mode": "r",
   "file_extension": ".r",
   "mimetype": "text/x-r-source",
   "name": "R",
   "pygments_lexer": "r",
   "version": "4.4.1"
  }
 },
 "nbformat": 4,
 "nbformat_minor": 5
}
