{
 "cells": [
  {
   "cell_type": "markdown",
   "id": "1e210cf7-5f3b-4072-a85c-6888e13d39cb",
   "metadata": {},
   "source": [
    "# Installations"
   ]
  },
  {
   "cell_type": "markdown",
   "id": "ee9c96c5-607b-438c-b8fc-3c40943609ee",
   "metadata": {},
   "source": [
    "## Create conda environment - in the terminal\n",
    "\n",
    "1. [Install anaconda](https://docs.anaconda.com/anaconda/install/)\n",
    "2. Create a new conda environment with all the `r-essentials` conda packages built from CRAN (make sure to install R 4.4.1 or higher):   \n",
    "   `conda create -n r_env r-essentials r-base`\n",
    "3. Activate the environment:   \n",
    "   `conda activate r_env`\n",
    "4. List the packages in the environment:   \n",
    "   `conda list`"
   ]
  },
  {
   "cell_type": "markdown",
   "id": "39c4e62d-97b4-4e92-9664-11dda94a5b40",
   "metadata": {},
   "source": [
    "## Install R libraries\n",
    "\n",
    "### Specific dependenies for PxN calculations\n",
    "\n",
    "- corpcor >=1.6.10\n",
    "- svd >=0.5.7\n",
    "- metap >=1.11\n",
    "  - qqconf\n",
    "  - multtest\n",
    "\n",
    "### Other auxiliary libraries \n",
    "\n",
    "The following libraries can be easily installed using `install.packages` and are not included in this guide. \n",
    "\n",
    "- data.table >=1.16.2\n",
    "- dplyr >=1.1.4\n",
    "- furrr >=0.3.1\n",
    "- future >=1.34.0\n",
    "- plyr >=1.8.9\n",
    "- tidyr >=1.3.1\n",
    "- combinat >=0.0-8\n",
    "- purrr >=1.0.2"
   ]
  },
  {
   "cell_type": "markdown",
   "id": "9ad1e514-dc71-4311-a9cb-ff69239d76a4",
   "metadata": {},
   "source": [
    "Open R from the terminal after the environment is activated by doing:   \n",
    "   `R`"
   ]
  },
  {
   "cell_type": "code",
   "execution_count": 1,
   "id": "c0033e80-7aa5-4669-9f9b-b27355d71dfd",
   "metadata": {},
   "outputs": [
    {
     "data": {
      "text/plain": [
       "R version 4.4.1 (2024-06-14)\n",
       "Platform: x86_64-conda-linux-gnu\n",
       "Running under: Red Hat Enterprise Linux\n",
       "\n",
       "Matrix products: default\n",
       "BLAS/LAPACK: /home/lsoto/miniconda3/envs/r_env/lib/libopenblasp-r0.3.21.so;  LAPACK version 3.9.0\n",
       "\n",
       "locale:\n",
       " [1] LC_CTYPE=en_US.UTF-8       LC_NUMERIC=C              \n",
       " [3] LC_TIME=en_US.UTF-8        LC_COLLATE=en_US.UTF-8    \n",
       " [5] LC_MONETARY=en_US.UTF-8    LC_MESSAGES=en_US.UTF-8   \n",
       " [7] LC_PAPER=en_US.UTF-8       LC_NAME=C                 \n",
       " [9] LC_ADDRESS=C               LC_TELEPHONE=C            \n",
       "[11] LC_MEASUREMENT=en_US.UTF-8 LC_IDENTIFICATION=C       \n",
       "\n",
       "time zone: America/New_York\n",
       "tzcode source: system (glibc)\n",
       "\n",
       "attached base packages:\n",
       "[1] stats     graphics  grDevices utils     datasets  methods   base     \n",
       "\n",
       "loaded via a namespace (and not attached):\n",
       " [1] digest_0.6.37     IRdisplay_1.1     utf8_1.2.4        base64enc_0.1-3  \n",
       " [5] fastmap_1.2.0     glue_1.8.0        htmltools_0.5.8.1 repr_1.1.7       \n",
       " [9] lifecycle_1.0.4   cli_3.6.3         fansi_1.0.6       vctrs_0.6.5      \n",
       "[13] pbdZMQ_0.3-13     compiler_4.4.1    tools_4.4.1       evaluate_1.0.1   \n",
       "[17] pillar_1.9.0      crayon_1.5.3      rlang_1.1.4       jsonlite_1.8.9   \n",
       "[21] IRkernel_1.3.2    uuid_1.2-1       "
      ]
     },
     "metadata": {},
     "output_type": "display_data"
    }
   ],
   "source": [
    "sessionInfo()"
   ]
  },
  {
   "cell_type": "code",
   "execution_count": 2,
   "id": "3de02edf-b128-4f10-a9be-6e40f946d816",
   "metadata": {},
   "outputs": [
    {
     "data": {
      "text/html": [
       "'/home/lsoto/miniconda3/envs/r_env/lib/R/library'"
      ],
      "text/latex": [
       "'/home/lsoto/miniconda3/envs/r\\_env/lib/R/library'"
      ],
      "text/markdown": [
       "'/home/lsoto/miniconda3/envs/r_env/lib/R/library'"
      ],
      "text/plain": [
       "[1] \"/home/lsoto/miniconda3/envs/r_env/lib/R/library\""
      ]
     },
     "metadata": {},
     "output_type": "display_data"
    }
   ],
   "source": [
    ".libPaths()"
   ]
  },
  {
   "cell_type": "markdown",
   "id": "ae31d649-0658-4cef-8e98-4d5c72390436",
   "metadata": {},
   "source": [
    "### Installing `svd`"
   ]
  },
  {
   "cell_type": "code",
   "execution_count": 7,
   "id": "a087bb77-2836-483b-88e6-6f8222ae568b",
   "metadata": {},
   "outputs": [
    {
     "name": "stderr",
     "output_type": "stream",
     "text": [
      "Updating HTML index of packages in '.Library'\n",
      "\n",
      "Making 'packages.html' ...\n",
      " done\n",
      "\n"
     ]
    }
   ],
   "source": [
    "install.packages(\"svd\")"
   ]
  },
  {
   "cell_type": "markdown",
   "id": "c5d5eee6-d90f-4327-9703-c1fb581096c8",
   "metadata": {},
   "source": [
    "### Installing `corpcor`"
   ]
  },
  {
   "cell_type": "code",
   "execution_count": 8,
   "id": "4068e267-b42a-4bb6-9756-c5178f122c9d",
   "metadata": {},
   "outputs": [
    {
     "name": "stderr",
     "output_type": "stream",
     "text": [
      "Updating HTML index of packages in '.Library'\n",
      "\n",
      "Making 'packages.html' ...\n",
      " done\n",
      "\n"
     ]
    }
   ],
   "source": [
    "install.packages(\"corpcor\") # works fine"
   ]
  },
  {
   "cell_type": "markdown",
   "id": "3bd6926c-7d5e-4dbb-b36c-a7239fb2e171",
   "metadata": {},
   "source": [
    "### Installing `metap`\n",
    "\n",
    "Dependencies failing:\n",
    "- qqconf (requires FFTW)\n",
    "- multtest (from bioconductor)"
   ]
  },
  {
   "cell_type": "markdown",
   "id": "cab97b85-472d-4e9b-982a-31bf41225e41",
   "metadata": {},
   "source": [
    "#### Installation of `qqconf` \n",
    "\n",
    "1. Install FFTW from binary on the terminal:\n",
    "\n",
    "```\n",
    "cd /home/lsoto/miniconda3/lib\n",
    "wget ftp://ftp.fftw.org/pub/fftw/fftw-3.3.10.tar.gz\n",
    "tar -xvzf ftp://ftp.fftw.org/pub/fftw/fftw-3.3.10.tar.gz\n",
    "cd fftw-3.3.10\n",
    "./configure --prefix=/home/lsoto/miniconda3/lib\n",
    "make\n",
    "make install\n",
    "```"
   ]
  },
  {
   "cell_type": "markdown",
   "id": "fca8dfcf-8b3d-496d-b683-54a96da0cf4c",
   "metadata": {},
   "source": [
    "2. In R:  "
   ]
  },
  {
   "cell_type": "code",
   "execution_count": null,
   "id": "32895dfd-26fb-4754-a29b-cd323a295230",
   "metadata": {},
   "outputs": [],
   "source": [
    "install.packages('qqconf')"
   ]
  },
  {
   "cell_type": "markdown",
   "id": "c765c20f-e3ef-4788-9f96-99efff43f82e",
   "metadata": {},
   "source": [
    "#### Installation of `multtest`"
   ]
  },
  {
   "cell_type": "code",
   "execution_count": 1,
   "id": "5be56736-2ff7-444d-8982-b5557442ac75",
   "metadata": {},
   "outputs": [
    {
     "name": "stderr",
     "output_type": "stream",
     "text": [
      "Updating HTML index of packages in '.Library'\n",
      "\n",
      "Making 'packages.html' ...\n",
      " done\n",
      "\n"
     ]
    }
   ],
   "source": [
    "if (!require(\"BiocManager\", quietly = TRUE))\n",
    "    install.packages(\"BiocManager\")"
   ]
  },
  {
   "cell_type": "code",
   "execution_count": 2,
   "id": "90aa138a-346b-4669-9ef3-eead185e85e7",
   "metadata": {},
   "outputs": [
    {
     "name": "stderr",
     "output_type": "stream",
     "text": [
      "'getOption(\"repos\")' replaces Bioconductor standard repositories, see\n",
      "'help(\"repositories\", package = \"BiocManager\")' for details.\n",
      "Replacement repositories:\n",
      "    CRAN: https://cran.r-project.org\n",
      "\n",
      "Bioconductor version 3.18 (BiocManager 1.30.23), R 4.3.1 (2023-06-16)\n",
      "\n",
      "Installing package(s) 'BiocVersion', 'multtest'\n",
      "\n",
      "also installing the dependencies ‘BiocGenerics’, ‘Biobase’\n",
      "\n",
      "\n",
      "Updating HTML index of packages in '.Library'\n",
      "\n",
      "Making 'packages.html' ...\n",
      " done\n",
      "\n",
      "Old packages: 'backports', 'boot', 'broom', 'bslib', 'cachem', 'callr', 'cli',\n",
      "  'cluster', 'codetools', 'commonmark', 'cpp11', 'curl', 'data.table', 'DBI',\n",
      "  'dbplyr', 'digest', 'dplyr', 'e1071', 'evaluate', 'fansi', 'farver',\n",
      "  'fastmap', 'foreign', 'fs', 'future', 'future.apply', 'ggplot2', 'globals',\n",
      "  'glue', 'gtable', 'hardhat', 'haven', 'highr', 'htmltools', 'httpuv',\n",
      "  'jsonlite', 'KernSmooth', 'knitr', 'later', 'lattice', 'lava', 'lifecycle',\n",
      "  'listenv', 'mgcv', 'munsell', 'nlme', 'openssl', 'parallelly', 'pbdZMQ',\n",
      "  'pROC', 'processx', 'progress', 'promises', 'ps', 'quantmod', 'ragg', 'Rcpp',\n",
      "  'RcppEigen', 'readr', 'recipes', 'repr', 'reprex', 'rlang', 'rmarkdown',\n",
      "  'rpart', 'rstudioapi', 'rvest', 'sass', 'scales', 'shape', 'shiny',\n",
      "  'SparseM', 'stringi', 'stringr', 'survival', 'systemfonts', 'textshaping',\n",
      "  'tidyr', 'tidyselect', 'timechange', 'timeDate', 'tinytex', 'TTR', 'uuid',\n",
      "  'vctrs', 'vroom', 'withr', 'xfun', 'xml2', 'xts', 'yaml'\n",
      "\n"
     ]
    }
   ],
   "source": [
    "BiocManager::install(\"multtest\")"
   ]
  },
  {
   "cell_type": "markdown",
   "id": "ba789a8e-70b8-4ae0-a65b-f9edf8da335a",
   "metadata": {},
   "source": [
    "### Installation of `metap` "
   ]
  },
  {
   "cell_type": "code",
   "execution_count": 3,
   "id": "8e160e97-6c8a-4b26-a731-9733aa12065c",
   "metadata": {},
   "outputs": [
    {
     "name": "stderr",
     "output_type": "stream",
     "text": [
      "also installing the dependency ‘mutoss’\n",
      "\n",
      "\n",
      "Updating HTML index of packages in '.Library'\n",
      "\n",
      "Making 'packages.html' ...\n",
      " done\n",
      "\n"
     ]
    }
   ],
   "source": [
    "install.packages(\"metap\")"
   ]
  },
  {
   "cell_type": "markdown",
   "id": "b1712fe2-be47-47e7-bf19-642b77ea7739",
   "metadata": {},
   "source": [
    "# Check libraries"
   ]
  },
  {
   "cell_type": "code",
   "execution_count": 3,
   "id": "01207b35-1cc4-400f-8ebb-e8bd9d78eec9",
   "metadata": {},
   "outputs": [
    {
     "name": "stderr",
     "output_type": "stream",
     "text": [
      "\n",
      "Attaching package: ‘dplyr’\n",
      "\n",
      "\n",
      "The following objects are masked from ‘package:data.table’:\n",
      "\n",
      "    between, first, last\n",
      "\n",
      "\n",
      "The following objects are masked from ‘package:stats’:\n",
      "\n",
      "    filter, lag\n",
      "\n",
      "\n",
      "The following objects are masked from ‘package:base’:\n",
      "\n",
      "    intersect, setdiff, setequal, union\n",
      "\n",
      "\n",
      "Loading required package: future\n",
      "\n",
      "------------------------------------------------------------------------------\n",
      "\n",
      "You have loaded plyr after dplyr - this is likely to cause problems.\n",
      "If you need functions from both plyr and dplyr, please load plyr first, then dplyr:\n",
      "library(plyr); library(dplyr)\n",
      "\n",
      "------------------------------------------------------------------------------\n",
      "\n",
      "\n",
      "Attaching package: ‘plyr’\n",
      "\n",
      "\n",
      "The following objects are masked from ‘package:dplyr’:\n",
      "\n",
      "    arrange, count, desc, failwith, id, mutate, rename, summarise,\n",
      "    summarize\n",
      "\n",
      "\n",
      "\n",
      "Attaching package: ‘combinat’\n",
      "\n",
      "\n",
      "The following object is masked from ‘package:utils’:\n",
      "\n",
      "    combn\n",
      "\n",
      "\n",
      "\n",
      "Attaching package: ‘purrr’\n",
      "\n",
      "\n",
      "The following object is masked from ‘package:plyr’:\n",
      "\n",
      "    compact\n",
      "\n",
      "\n",
      "The following object is masked from ‘package:data.table’:\n",
      "\n",
      "    transpose\n",
      "\n",
      "\n"
     ]
    }
   ],
   "source": [
    "library(svd)\n",
    "library(metap)\n",
    "library(corpcor)\n",
    "library(parallel)\n",
    "library(corpcor)\n",
    "library(data.table)\n",
    "library(dplyr)\n",
    "library(furrr)\n",
    "library(future)\n",
    "library(plyr)\n",
    "library(svd)\n",
    "library(tidyr) \n",
    "library(combinat)\n",
    "library(future)\n",
    "library(purrr)"
   ]
  },
  {
   "cell_type": "code",
   "execution_count": 4,
   "id": "fab3e382-3557-4e52-907a-e29d6880a3e9",
   "metadata": {},
   "outputs": [
    {
     "data": {
      "text/plain": [
       "R version 4.4.1 (2024-06-14)\n",
       "Platform: x86_64-conda-linux-gnu\n",
       "Running under: Red Hat Enterprise Linux\n",
       "\n",
       "Matrix products: default\n",
       "BLAS/LAPACK: /home/lsoto/miniconda3/envs/r_env/lib/libopenblasp-r0.3.21.so;  LAPACK version 3.9.0\n",
       "\n",
       "locale:\n",
       " [1] LC_CTYPE=en_US.UTF-8       LC_NUMERIC=C              \n",
       " [3] LC_TIME=en_US.UTF-8        LC_COLLATE=en_US.UTF-8    \n",
       " [5] LC_MONETARY=en_US.UTF-8    LC_MESSAGES=en_US.UTF-8   \n",
       " [7] LC_PAPER=en_US.UTF-8       LC_NAME=C                 \n",
       " [9] LC_ADDRESS=C               LC_TELEPHONE=C            \n",
       "[11] LC_MEASUREMENT=en_US.UTF-8 LC_IDENTIFICATION=C       \n",
       "\n",
       "time zone: America/New_York\n",
       "tzcode source: system (glibc)\n",
       "\n",
       "attached base packages:\n",
       "[1] parallel  stats     graphics  grDevices utils     datasets  methods  \n",
       "[8] base     \n",
       "\n",
       "other attached packages:\n",
       " [1] purrr_1.0.2       combinat_0.0-8    tidyr_1.3.1       plyr_1.8.9       \n",
       " [5] furrr_0.3.1       future_1.34.0     dplyr_1.1.4       data.table_1.16.2\n",
       " [9] corpcor_1.6.10    metap_1.11        svd_0.5.7        \n",
       "\n",
       "loaded via a namespace (and not attached):\n",
       " [1] sandwich_3.1-1      utf8_1.2.4          generics_0.1.3     \n",
       " [4] qqconf_1.3.2        lattice_0.22-6      listenv_0.9.1      \n",
       " [7] magrittr_2.0.3      digest_0.6.37       evaluate_1.0.1     \n",
       "[10] grid_4.4.1          pbdZMQ_0.3-13       mvtnorm_1.3-2      \n",
       "[13] fastmap_1.2.0       jsonlite_1.8.9      Matrix_1.7-1       \n",
       "[16] survival_3.7-0      multcomp_1.4-26     fansi_1.0.6        \n",
       "[19] TFisher_0.2.0       TH.data_1.1-2       codetools_0.2-20   \n",
       "[22] numDeriv_2016.8-1.1 mnormt_2.1.1        Rdpack_2.6.2       \n",
       "[25] cli_3.6.3           rlang_1.1.4         crayon_1.5.3       \n",
       "[28] rbibutils_2.3       Biobase_2.66.0      parallelly_1.39.0  \n",
       "[31] splines_4.4.1       base64enc_0.1-3     repr_1.1.7         \n",
       "[34] plotrix_3.8-4       tools_4.4.1         uuid_1.2-1         \n",
       "[37] mutoss_0.1-13       mathjaxr_1.6-0      globals_0.16.3     \n",
       "[40] multtest_2.62.0     BiocGenerics_0.52.0 IRdisplay_1.1      \n",
       "[43] vctrs_0.6.5         R6_2.5.1            stats4_4.4.1       \n",
       "[46] zoo_1.8-12          lifecycle_1.0.4     MASS_7.3-61        \n",
       "[49] pkgconfig_2.0.3     pillar_1.9.0        glue_1.8.0         \n",
       "[52] Rcpp_1.0.13-1       tidyselect_1.2.1    tibble_3.2.1       \n",
       "[55] IRkernel_1.3.2      htmltools_0.5.8.1   compiler_4.4.1     \n",
       "[58] sn_2.1.1           "
      ]
     },
     "metadata": {},
     "output_type": "display_data"
    }
   ],
   "source": [
    "sessionInfo()"
   ]
  }
 ],
 "metadata": {
  "kernelspec": {
   "display_name": "R",
   "language": "R",
   "name": "ir"
  },
  "language_info": {
   "codemirror_mode": "r",
   "file_extension": ".r",
   "mimetype": "text/x-r-source",
   "name": "R",
   "pygments_lexer": "r",
   "version": "4.4.1"
  }
 },
 "nbformat": 4,
 "nbformat_minor": 5
}
