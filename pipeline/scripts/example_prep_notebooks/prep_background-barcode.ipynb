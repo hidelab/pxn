{
 "cells": [
  {
   "cell_type": "markdown",
   "id": "fe42f70c-c8a6-4312-89a3-453765fed7a6",
   "metadata": {},
   "source": [
    "# Gene expression background - Microarray barcode dataset\n",
    "\n",
    "The dataset will be re-structured in the directory `../input/gene_expression/[DATASETNAME]`. The code internally will generate one `metadata_[DATASTNAME].csv` inside that folder. This file is a table with two columns: tissue (name of the tissue) and nsamples (number of samples), the names used for tissues inside this table will be the ones used to name the individual tissue folders containing the expression data files and to build the job array list. In addition, it will create one folder per tissue inside `../input/gene_expression/[DATASETNAME]/subgroups` , inside each tissue folder two files will be created: `[tissue].RDS` and `[tissue].csv` with the same counts matrix stored in the two different formats.  \n",
    "\n",
    "In summary, the folder will look like this:\n",
    "\n",
    "- `../input/gene_expression/[DATASETNAME]`   \n",
    "    - `metadata_[DATASTNAME].csv` dataset metadata file generated automatically when splitting the data into tissues\n",
    "    - `genes_[DATASETNAME].csv` single-column file generated automatically with gene ids of all genes in universe\n",
    "    - `subgroups`   \n",
    "        - `tissue_1`   \n",
    "            - `tissue_1.csv` expression matrix table in CSV format   \n",
    "        - `tissue_2`    \n",
    "            - `tissue_2.csv`\n",
    "         \n",
    "**Definition of the gene universe**\n",
    "\n",
    "The file `genes_[DATASETNAME].csv` contains the list of genes in the gene universe of this dataset. This list contains the genes that have at least `min_cts` in at least `min_sam_cts` samples. By default, these parameters are set to 3 counts in at least 1 sample. These filters are part of the changes implemented in version 2.2 and generate datasets with the tag `gfilter`."
   ]
  },
  {
   "cell_type": "code",
   "execution_count": 1,
   "id": "f4ee0b26-5d8b-473d-a6f9-ec31a107bff0",
   "metadata": {
    "scrolled": true
   },
   "outputs": [],
   "source": [
    "suppressPackageStartupMessages({\n",
    "    library(dplyr)\n",
    "    library(plyr)\n",
    "    library(biomaRt)\n",
    "    library(data.table)\n",
    "    library(furrr)  \n",
    "})\n",
    "source('../funcs/misc.R')\n",
    "options(stringsAsFactors=FALSE)"
   ]
  },
  {
   "cell_type": "markdown",
   "id": "6bdca798-94b6-4c62-b997-05d0814cea6d",
   "metadata": {},
   "source": [
    "## PDxN requirements"
   ]
  },
  {
   "cell_type": "code",
   "execution_count": 2,
   "id": "f0454fcf-8b34-4da8-b4d9-3403bd4e27f8",
   "metadata": {},
   "outputs": [],
   "source": [
    "# Dataset name\n",
    "dsname<-\"HGU133plus2_gfilter\"\n",
    "\n",
    "# Filtering parameters\n",
    "min_cts<-3 # Minimum number of gene counts\n",
    "min_sam_cts<-1 # Minimum number of samples with min_cts\n",
    "min_sam_tissue<-10 # Minimum number of samples per tissue"
   ]
  },
  {
   "cell_type": "code",
   "execution_count": 3,
   "id": "fe23af79-6508-4ca4-b973-966ebfd6ad57",
   "metadata": {},
   "outputs": [
    {
     "name": "stderr",
     "output_type": "stream",
     "text": [
      "Creating dataset directory at ../../input/gene_expression/HGU133plus2_gfilter\n",
      "\n"
     ]
    }
   ],
   "source": [
    "# Directory structure - DO NOT CHANGE \n",
    "output_dir <- file.path(\"../../input/gene_expression\",dsname)\n",
    "metadata_file <- file.path(output_dir,paste0(\"metadata_\",dsname,\".csv\"))\n",
    "gene_file <- file.path(output_dir,paste0(\"genes_\",dsname,\".csv\"))\n",
    "create_directory(output_dir)\n",
    "message(\"Creating dataset directory at \",output_dir)"
   ]
  },
  {
   "cell_type": "markdown",
   "id": "6afea498-2a26-41e1-b25b-62a9ea40ce64",
   "metadata": {},
   "source": [
    "## Dataset-specific inputs"
   ]
  },
  {
   "cell_type": "code",
   "execution_count": 4,
   "id": "476fc0b3-2681-4614-becd-4ff2585f0d9b",
   "metadata": {},
   "outputs": [],
   "source": [
    "# Dataset original inputs\n",
    "barcode_dir <- \"~/projects/pdxn_2.0/data/background/microarray/HGU133plus2\"\n",
    "tissue_file <- \"~/projects/pdxn_2.0/data/background/microarray/Barcode3.tissue.RDS\""
   ]
  },
  {
   "cell_type": "code",
   "execution_count": 5,
   "id": "acf8b8f1-1b51-420a-8480-566b75e00344",
   "metadata": {},
   "outputs": [],
   "source": [
    "# Load dataset\n",
    "bcdfiles <- list.files(barcode_dir,recursive = T,pattern = \".collapse.RDS\",full.names = T) \n",
    "tissue_annot <- readRDS(tissue_file)"
   ]
  },
  {
   "cell_type": "markdown",
   "id": "fbc4fe7c-bccf-46da-b91d-ee3d6a8fabee",
   "metadata": {},
   "source": [
    "## Process original files \n",
    "\n",
    "This section loads the legacy objects form the original PDxN pipeline and extracts the count matrices and tissue annotation into separate objects that will be used to split the dataset into tissues in the next step. "
   ]
  },
  {
   "cell_type": "code",
   "execution_count": 6,
   "id": "70b21908-e2b6-43ef-be86-e602409d8eb6",
   "metadata": {
    "scrolled": true
   },
   "outputs": [],
   "source": [
    "# Clean up tissue names\n",
    "tissue_annot <- tissue_annot %>%\n",
    "                mutate(tissue=gsub(\",_ie,_|_\\\\(.*\",\"\",tissue) %>%\n",
    "                              gsub(\"\\\\.+|\\\\._|%:|%_\",\"_\",.))"
   ]
  },
  {
   "cell_type": "code",
   "execution_count": 7,
   "id": "c2a553d9-c763-49d4-97fe-407754f36d6b",
   "metadata": {},
   "outputs": [
    {
     "data": {
      "text/html": [
       "<style>\n",
       ".list-inline {list-style: none; margin:0; padding: 0}\n",
       ".list-inline>li {display: inline-block}\n",
       ".list-inline>li:not(:last-child)::after {content: \"\\00b7\"; padding: 0 .5ex}\n",
       "</style>\n",
       "<ol class=list-inline><li>'accumbens'</li><li>'adipose_tissue_subcutaneous'</li><li>'adipose_tissue'</li><li>'adrenal_gland_cortex'</li><li>'airway_epithelial_cells'</li><li>'aortic_valve'</li><li>'biceps_brachii_muscle'</li><li>'blood'</li><li>'bone_marrow'</li><li>'brain'</li><li>'breast_ductal_cells'</li><li>'breast_stroma'</li><li>'breast'</li><li>'bronchial_epithelial_cells'</li><li>'buccal_mucosa'</li><li>'colon'</li><li>'colonic_mucosa'</li><li>'cortex'</li><li>'effector_cd8+_t_cells'</li><li>'endobronchial_epithelial_lining_fluid'</li><li>'endometrium'</li><li>'entorhinal_cortex'</li><li>'esophageal_squamous_epithelium'</li><li>'fallopian_tube_epithelium'</li><li>'fetal_cartilage'</li><li>'fetal_lung'</li><li>'forearm_epdermis'</li><li>'head_and_neck_epithelial_cells'</li><li>'hippocampus'</li><li>'intestinal_mucosa'</li><li>'kidney_cortex'</li><li>'kidney'</li><li>'leukocytes'</li><li>'liver'</li><li>'lung'</li><li>'lymphocytes'</li><li>'maqc_sample_astratagene_universal_human_reference_rna'</li><li>'maqc_sample_bambion_human_brain_reference_rna'</li><li>'maqc_sample_cmaqc_samples_a_and_b_mixed_at_75_25_ratio'</li><li>'maqc_sample_dmaqc_samples_a_and_b_mixed_at_25_75_ratio'</li><li>'medial_temporal_gyrus'</li><li>'myometrium'</li><li>'nasal_tissue'</li><li>'nasopharyngeal_epithelial_cells'</li><li>'oral_tissue'</li><li>'ovarian_surface_epithelium'</li><li>'pancreas'</li><li>'parotid_gland'</li><li>'pbmc'</li><li>'pericardial_adipose_tissue'</li><li>'placenta'</li><li>'pmns'</li><li>'postcentral_gyrus'</li><li>'posterior_singulate'</li><li>'prefrontal_cortex'</li><li>'primary_visual_cortex'</li><li>'prostate'</li><li>'putamen'</li><li>'retina'</li><li>'saliva'</li><li>'sigmoid_colon_mucosa'</li><li>'skeletal_muscle'</li><li>'skin'</li><li>'sperm'</li><li>'stomach'</li><li>'superior_frontal_gyrus'</li><li>'tarsal_conjunctiva'</li><li>'thyroid'</li><li>'trachea'</li><li>'vagina'</li><li>'vastus_lateralis'</li><li>'vulva'</li></ol>\n"
      ],
      "text/latex": [
       "\\begin{enumerate*}\n",
       "\\item 'accumbens'\n",
       "\\item 'adipose\\_tissue\\_subcutaneous'\n",
       "\\item 'adipose\\_tissue'\n",
       "\\item 'adrenal\\_gland\\_cortex'\n",
       "\\item 'airway\\_epithelial\\_cells'\n",
       "\\item 'aortic\\_valve'\n",
       "\\item 'biceps\\_brachii\\_muscle'\n",
       "\\item 'blood'\n",
       "\\item 'bone\\_marrow'\n",
       "\\item 'brain'\n",
       "\\item 'breast\\_ductal\\_cells'\n",
       "\\item 'breast\\_stroma'\n",
       "\\item 'breast'\n",
       "\\item 'bronchial\\_epithelial\\_cells'\n",
       "\\item 'buccal\\_mucosa'\n",
       "\\item 'colon'\n",
       "\\item 'colonic\\_mucosa'\n",
       "\\item 'cortex'\n",
       "\\item 'effector\\_cd8+\\_t\\_cells'\n",
       "\\item 'endobronchial\\_epithelial\\_lining\\_fluid'\n",
       "\\item 'endometrium'\n",
       "\\item 'entorhinal\\_cortex'\n",
       "\\item 'esophageal\\_squamous\\_epithelium'\n",
       "\\item 'fallopian\\_tube\\_epithelium'\n",
       "\\item 'fetal\\_cartilage'\n",
       "\\item 'fetal\\_lung'\n",
       "\\item 'forearm\\_epdermis'\n",
       "\\item 'head\\_and\\_neck\\_epithelial\\_cells'\n",
       "\\item 'hippocampus'\n",
       "\\item 'intestinal\\_mucosa'\n",
       "\\item 'kidney\\_cortex'\n",
       "\\item 'kidney'\n",
       "\\item 'leukocytes'\n",
       "\\item 'liver'\n",
       "\\item 'lung'\n",
       "\\item 'lymphocytes'\n",
       "\\item 'maqc\\_sample\\_astratagene\\_universal\\_human\\_reference\\_rna'\n",
       "\\item 'maqc\\_sample\\_bambion\\_human\\_brain\\_reference\\_rna'\n",
       "\\item 'maqc\\_sample\\_cmaqc\\_samples\\_a\\_and\\_b\\_mixed\\_at\\_75\\_25\\_ratio'\n",
       "\\item 'maqc\\_sample\\_dmaqc\\_samples\\_a\\_and\\_b\\_mixed\\_at\\_25\\_75\\_ratio'\n",
       "\\item 'medial\\_temporal\\_gyrus'\n",
       "\\item 'myometrium'\n",
       "\\item 'nasal\\_tissue'\n",
       "\\item 'nasopharyngeal\\_epithelial\\_cells'\n",
       "\\item 'oral\\_tissue'\n",
       "\\item 'ovarian\\_surface\\_epithelium'\n",
       "\\item 'pancreas'\n",
       "\\item 'parotid\\_gland'\n",
       "\\item 'pbmc'\n",
       "\\item 'pericardial\\_adipose\\_tissue'\n",
       "\\item 'placenta'\n",
       "\\item 'pmns'\n",
       "\\item 'postcentral\\_gyrus'\n",
       "\\item 'posterior\\_singulate'\n",
       "\\item 'prefrontal\\_cortex'\n",
       "\\item 'primary\\_visual\\_cortex'\n",
       "\\item 'prostate'\n",
       "\\item 'putamen'\n",
       "\\item 'retina'\n",
       "\\item 'saliva'\n",
       "\\item 'sigmoid\\_colon\\_mucosa'\n",
       "\\item 'skeletal\\_muscle'\n",
       "\\item 'skin'\n",
       "\\item 'sperm'\n",
       "\\item 'stomach'\n",
       "\\item 'superior\\_frontal\\_gyrus'\n",
       "\\item 'tarsal\\_conjunctiva'\n",
       "\\item 'thyroid'\n",
       "\\item 'trachea'\n",
       "\\item 'vagina'\n",
       "\\item 'vastus\\_lateralis'\n",
       "\\item 'vulva'\n",
       "\\end{enumerate*}\n"
      ],
      "text/markdown": [
       "1. 'accumbens'\n",
       "2. 'adipose_tissue_subcutaneous'\n",
       "3. 'adipose_tissue'\n",
       "4. 'adrenal_gland_cortex'\n",
       "5. 'airway_epithelial_cells'\n",
       "6. 'aortic_valve'\n",
       "7. 'biceps_brachii_muscle'\n",
       "8. 'blood'\n",
       "9. 'bone_marrow'\n",
       "10. 'brain'\n",
       "11. 'breast_ductal_cells'\n",
       "12. 'breast_stroma'\n",
       "13. 'breast'\n",
       "14. 'bronchial_epithelial_cells'\n",
       "15. 'buccal_mucosa'\n",
       "16. 'colon'\n",
       "17. 'colonic_mucosa'\n",
       "18. 'cortex'\n",
       "19. 'effector_cd8+_t_cells'\n",
       "20. 'endobronchial_epithelial_lining_fluid'\n",
       "21. 'endometrium'\n",
       "22. 'entorhinal_cortex'\n",
       "23. 'esophageal_squamous_epithelium'\n",
       "24. 'fallopian_tube_epithelium'\n",
       "25. 'fetal_cartilage'\n",
       "26. 'fetal_lung'\n",
       "27. 'forearm_epdermis'\n",
       "28. 'head_and_neck_epithelial_cells'\n",
       "29. 'hippocampus'\n",
       "30. 'intestinal_mucosa'\n",
       "31. 'kidney_cortex'\n",
       "32. 'kidney'\n",
       "33. 'leukocytes'\n",
       "34. 'liver'\n",
       "35. 'lung'\n",
       "36. 'lymphocytes'\n",
       "37. 'maqc_sample_astratagene_universal_human_reference_rna'\n",
       "38. 'maqc_sample_bambion_human_brain_reference_rna'\n",
       "39. 'maqc_sample_cmaqc_samples_a_and_b_mixed_at_75_25_ratio'\n",
       "40. 'maqc_sample_dmaqc_samples_a_and_b_mixed_at_25_75_ratio'\n",
       "41. 'medial_temporal_gyrus'\n",
       "42. 'myometrium'\n",
       "43. 'nasal_tissue'\n",
       "44. 'nasopharyngeal_epithelial_cells'\n",
       "45. 'oral_tissue'\n",
       "46. 'ovarian_surface_epithelium'\n",
       "47. 'pancreas'\n",
       "48. 'parotid_gland'\n",
       "49. 'pbmc'\n",
       "50. 'pericardial_adipose_tissue'\n",
       "51. 'placenta'\n",
       "52. 'pmns'\n",
       "53. 'postcentral_gyrus'\n",
       "54. 'posterior_singulate'\n",
       "55. 'prefrontal_cortex'\n",
       "56. 'primary_visual_cortex'\n",
       "57. 'prostate'\n",
       "58. 'putamen'\n",
       "59. 'retina'\n",
       "60. 'saliva'\n",
       "61. 'sigmoid_colon_mucosa'\n",
       "62. 'skeletal_muscle'\n",
       "63. 'skin'\n",
       "64. 'sperm'\n",
       "65. 'stomach'\n",
       "66. 'superior_frontal_gyrus'\n",
       "67. 'tarsal_conjunctiva'\n",
       "68. 'thyroid'\n",
       "69. 'trachea'\n",
       "70. 'vagina'\n",
       "71. 'vastus_lateralis'\n",
       "72. 'vulva'\n",
       "\n",
       "\n"
      ],
      "text/plain": [
       " [1] \"accumbens\"                                             \n",
       " [2] \"adipose_tissue_subcutaneous\"                           \n",
       " [3] \"adipose_tissue\"                                        \n",
       " [4] \"adrenal_gland_cortex\"                                  \n",
       " [5] \"airway_epithelial_cells\"                               \n",
       " [6] \"aortic_valve\"                                          \n",
       " [7] \"biceps_brachii_muscle\"                                 \n",
       " [8] \"blood\"                                                 \n",
       " [9] \"bone_marrow\"                                           \n",
       "[10] \"brain\"                                                 \n",
       "[11] \"breast_ductal_cells\"                                   \n",
       "[12] \"breast_stroma\"                                         \n",
       "[13] \"breast\"                                                \n",
       "[14] \"bronchial_epithelial_cells\"                            \n",
       "[15] \"buccal_mucosa\"                                         \n",
       "[16] \"colon\"                                                 \n",
       "[17] \"colonic_mucosa\"                                        \n",
       "[18] \"cortex\"                                                \n",
       "[19] \"effector_cd8+_t_cells\"                                 \n",
       "[20] \"endobronchial_epithelial_lining_fluid\"                 \n",
       "[21] \"endometrium\"                                           \n",
       "[22] \"entorhinal_cortex\"                                     \n",
       "[23] \"esophageal_squamous_epithelium\"                        \n",
       "[24] \"fallopian_tube_epithelium\"                             \n",
       "[25] \"fetal_cartilage\"                                       \n",
       "[26] \"fetal_lung\"                                            \n",
       "[27] \"forearm_epdermis\"                                      \n",
       "[28] \"head_and_neck_epithelial_cells\"                        \n",
       "[29] \"hippocampus\"                                           \n",
       "[30] \"intestinal_mucosa\"                                     \n",
       "[31] \"kidney_cortex\"                                         \n",
       "[32] \"kidney\"                                                \n",
       "[33] \"leukocytes\"                                            \n",
       "[34] \"liver\"                                                 \n",
       "[35] \"lung\"                                                  \n",
       "[36] \"lymphocytes\"                                           \n",
       "[37] \"maqc_sample_astratagene_universal_human_reference_rna\" \n",
       "[38] \"maqc_sample_bambion_human_brain_reference_rna\"         \n",
       "[39] \"maqc_sample_cmaqc_samples_a_and_b_mixed_at_75_25_ratio\"\n",
       "[40] \"maqc_sample_dmaqc_samples_a_and_b_mixed_at_25_75_ratio\"\n",
       "[41] \"medial_temporal_gyrus\"                                 \n",
       "[42] \"myometrium\"                                            \n",
       "[43] \"nasal_tissue\"                                          \n",
       "[44] \"nasopharyngeal_epithelial_cells\"                       \n",
       "[45] \"oral_tissue\"                                           \n",
       "[46] \"ovarian_surface_epithelium\"                            \n",
       "[47] \"pancreas\"                                              \n",
       "[48] \"parotid_gland\"                                         \n",
       "[49] \"pbmc\"                                                  \n",
       "[50] \"pericardial_adipose_tissue\"                            \n",
       "[51] \"placenta\"                                              \n",
       "[52] \"pmns\"                                                  \n",
       "[53] \"postcentral_gyrus\"                                     \n",
       "[54] \"posterior_singulate\"                                   \n",
       "[55] \"prefrontal_cortex\"                                     \n",
       "[56] \"primary_visual_cortex\"                                 \n",
       "[57] \"prostate\"                                              \n",
       "[58] \"putamen\"                                               \n",
       "[59] \"retina\"                                                \n",
       "[60] \"saliva\"                                                \n",
       "[61] \"sigmoid_colon_mucosa\"                                  \n",
       "[62] \"skeletal_muscle\"                                       \n",
       "[63] \"skin\"                                                  \n",
       "[64] \"sperm\"                                                 \n",
       "[65] \"stomach\"                                               \n",
       "[66] \"superior_frontal_gyrus\"                                \n",
       "[67] \"tarsal_conjunctiva\"                                    \n",
       "[68] \"thyroid\"                                               \n",
       "[69] \"trachea\"                                               \n",
       "[70] \"vagina\"                                                \n",
       "[71] \"vastus_lateralis\"                                      \n",
       "[72] \"vulva\"                                                 "
      ]
     },
     "metadata": {},
     "output_type": "display_data"
    }
   ],
   "source": [
    "# Process dataset\n",
    "cts.list<-bcdfiles %>%\n",
    "          lapply(.,function(path){\n",
    "                tissue_exprs <- readRDS(path)$datETcollapsed\n",
    "                return(tissue_exprs)\n",
    "           })\n",
    "names(cts.list)<-gsub(\"\\\\.collapse.*\",\"\",basename(bcdfiles)) %>%  # clean up tissue names\n",
    "                 gsub(\"\\\\._ie\\\\._|_\\\\(.*\",\"\",.) %>%\n",
    "                 gsub(\"\\\\.+|\\\\._\",\"_\",.)\n",
    "names(cts.list)"
   ]
  },
  {
   "cell_type": "markdown",
   "id": "27c88bd1-4f8f-42fc-8caf-e1a0faab7ec4",
   "metadata": {},
   "source": [
    "## Split dataset by tissue\n",
    "\n",
    "This section generates a named list with the tissue expression matrices of all the experiments available for that tissue or subgroup. The file structure will be the following:\n",
    "\n",
    "- `../input/gene_expression/[DATASETNAME]`   \n",
    "    - `metadata_[DATASTNAME].csv` dataset metadata file generated automatically when splitting the data into tissues\n",
    "    - `genes_[DATASETNAME].csv` single-column file generated automatically with gene ids of all genes in universe\n",
    "    - `subgroups`   \n",
    "        - `tissue_1`   \n",
    "            - `tissue_1.csv` expression matrix table in CSV format   \n",
    "        - `tissue_2`    \n",
    "            - `tissue_2.csv`"
   ]
  },
  {
   "cell_type": "code",
   "execution_count": 8,
   "id": "1bf647f3-9b69-49f6-880e-45c052e60ade",
   "metadata": {},
   "outputs": [
    {
     "name": "stderr",
     "output_type": "stream",
     "text": [
      "\u001b[1m\u001b[22m`summarise()` has grouped output by 'tissue'. You can override using the `.groups` argument.\n"
     ]
    }
   ],
   "source": [
    "# Build list of count matrices by tissue\n",
    "\n",
    "all.samples<-lapply(cts.list,colnames)%>%\n",
    "             unlist()\n",
    "cts.df<-tissue_annot %>%\n",
    "        filter(sample %in% all.samples) %>%\n",
    "        group_by(tissue,series) %>%\n",
    "        dplyr::summarize(samples=list(sample),\n",
    "                         nsamples=length(sample)) %>%\n",
    "        mutate(data=purrr::map2(tissue,\n",
    "                                samples,\n",
    "                                function(tis,sam,...){\n",
    "                                   as.data.frame(cts.list[[tis]][,unlist(sam)])\n",
    "                                })\n",
    "              ) %>%\n",
    "        filter(nsamples>=10) %>%\n",
    "        mutate(tissue_series=paste(tissue,series,sep=\"_\"))\n",
    "cts.list<-cts.df$data\n",
    "names(cts.list)<-cts.df$tissue_series"
   ]
  },
  {
   "cell_type": "code",
   "execution_count": 9,
   "id": "78e0b1c9-e396-4da9-94c4-8c860a5879f4",
   "metadata": {},
   "outputs": [
    {
     "name": "stderr",
     "output_type": "stream",
     "text": [
      "Gene universe contains 20590 genes\n",
      "\n",
      "Wrote gene universe to file ../input/gene_expression/HGU133plus2_gfilter/genes_HGU133plus2_gfilter.csv\n",
      "\n",
      "Returning filtered matrices and gene universe\n",
      "\n"
     ]
    }
   ],
   "source": [
    "# Filter gene expression matrices \n",
    "cts.list.filt <- filter_tissue_expr_list(cts_list = cts.list,\n",
    "                                         min_counts = min_cts,\n",
    "                                         min_samples = min_sam_cts,\n",
    "                                         gu_file = gene_file)\n",
    "names(cts.list.filt$filtered_cts) <- names(cts.list)"
   ]
  },
  {
   "cell_type": "code",
   "execution_count": 10,
   "id": "0891ce9b-9856-45e1-8bd1-af89d7771792",
   "metadata": {},
   "outputs": [
    {
     "data": {
      "text/html": [
       "0"
      ],
      "text/latex": [
       "0"
      ],
      "text/markdown": [
       "0"
      ],
      "text/plain": [
       "[1] 0"
      ]
     },
     "metadata": {},
     "output_type": "display_data"
    }
   ],
   "source": [
    "# Check that all matrices are correct\n",
    "lapply(cts.list.filt$filtered_cts,function(mat){\n",
    "    sum(is.na(mat))\n",
    "}) %>% \n",
    "unlist() %>% \n",
    "sum()"
   ]
  },
  {
   "cell_type": "code",
   "execution_count": 11,
   "id": "ab88aee9-4e01-444c-b18d-f146c6dcb83b",
   "metadata": {},
   "outputs": [],
   "source": [
    "# Create tissue files - written automatically by the function\n",
    "res <- tissue_list_to_dirs(cts_list = cts.list.filt$filtered_cts,\n",
    "                           output_dir = output_dir,\n",
    "                           meta_file = metadata_file)"
   ]
  },
  {
   "cell_type": "code",
   "execution_count": 12,
   "id": "287c48e5-1887-4d32-83e6-8a6f7ae2a1cd",
   "metadata": {
    "scrolled": true
   },
   "outputs": [
    {
     "name": "stdout",
     "output_type": "stream",
     "text": [
      "List of 2\n",
      " $ ndirs: int 134\n",
      " $ sizes:List of 134\n",
      "  ..$ accumbens_GSE7307                                                 : int [1:2] 20590 14\n",
      "  ..$ adipose_tissue_GSE13070                                           : int [1:2] 20590 34\n",
      "  ..$ adipose_tissue_GSE13506                                           : int [1:2] 20590 49\n",
      "  ..$ adipose_tissue_GSE28005                                           : int [1:2] 20590 13\n",
      "  ..$ adipose_tissue_subcutaneous_GSE17170                              : int [1:2] 20590 25\n",
      "  ..$ adipose_tissue_subcutaneous_GSE26339                              : int [1:2] 20590 11\n",
      "  ..$ adipose_tissue_subcutaneous_GSE27949                              : int [1:2] 20590 11\n",
      "  ..$ adrenal_gland_cortex_GSE10927                                     : int [1:2] 20590 10\n",
      "  ..$ airway_epithelial_cells_GSE11784                                  : int [1:2] 20590 40\n",
      "  ..$ airway_epithelial_cells_GSE13933                                  : int [1:2] 20590 11\n",
      "  ..$ aortic_valve_GSE12644                                             : int [1:2] 20590 10\n",
      "  ..$ biceps_brachii_muscle_GSE24235                                    : int [1:2] 20590 14\n",
      "  ..$ blood_GSE10715                                                    : int [1:2] 20590 11\n",
      "  ..$ blood_GSE11375                                                    : int [1:2] 20590 26\n",
      "  ..$ blood_GSE16028                                                    : int [1:2] 20590 109\n",
      "  ..$ blood_GSE18781                                                    : int [1:2] 20590 25\n",
      "  ..$ blood_GSE22229                                                    : int [1:2] 20590 12\n",
      "  ..$ blood_GSE26049                                                    : int [1:2] 20590 21\n",
      "  ..$ blood_GSE26378                                                    : int [1:2] 20590 21\n",
      "  ..$ blood_GSE26440                                                    : int [1:2] 20590 11\n",
      "  ..$ blood_GSE27263                                                    : int [1:2] 20590 26\n",
      "  ..$ blood_GSE28750                                                    : int [1:2] 20590 20\n",
      "  ..$ blood_GSE8121                                                     : int [1:2] 20590 15\n",
      "  ..$ bone_marrow_GSE11504                                              : int [1:2] 20590 25\n",
      "  ..$ brain_GSE17612                                                    : int [1:2] 20590 23\n",
      "  ..$ brain_GSE21935                                                    : int [1:2] 20590 19\n",
      "  ..$ breast_GSE10780                                                   : int [1:2] 20590 143\n",
      "  ..$ breast_GSE10810                                                   : int [1:2] 20590 27\n",
      "  ..$ breast_GSE29431                                                   : int [1:2] 20590 12\n",
      "  ..$ breast_ductal_cells_GSE5764                                       : int [1:2] 20590 10\n",
      "  ..$ breast_stroma_GSE8977                                             : int [1:2] 20590 14\n",
      "  ..$ bronchial_epithelial_cells_GSE4498;GSE5058;GSE5060;GSE7832;GSE8545: int [1:2] 20590 11\n",
      "  ..$ buccal_mucosa_GSE17913                                            : int [1:2] 20590 40\n",
      "  ..$ colon_GSE18105                                                    : int [1:2] 20590 11\n",
      "  ..$ colon_GSE21510                                                    : int [1:2] 20590 24\n",
      "  ..$ colon_GSE23878                                                    : int [1:2] 20590 24\n",
      "  ..$ colon_GSE9348                                                     : int [1:2] 20590 12\n",
      "  ..$ colonic_mucosa_GSE11831                                           : int [1:2] 20590 17\n",
      "  ..$ colonic_mucosa_GSE13367                                           : int [1:2] 20590 20\n",
      "  ..$ colonic_mucosa_GSE20916                                           : int [1:2] 20590 34\n",
      "  ..$ colonic_mucosa_GSE22619                                           : int [1:2] 20590 10\n",
      "  ..$ colonic_mucosa_GSE4107                                            : int [1:2] 20590 10\n",
      "  ..$ cortex_GSE7307                                                    : int [1:2] 20590 11\n",
      "  ..$ effector_cd8+_t_cells_GSE26890                                    : int [1:2] 20590 10\n",
      "  ..$ endobronchial_epithelial_lining_fluid_GSE27489                    : int [1:2] 20590 15\n",
      "  ..$ endometrium_GSE29981                                              : int [1:2] 20590 20\n",
      "  ..$ endometrium_GSE7305                                               : int [1:2] 20590 10\n",
      "  ..$ entorhinal_cortex_GSE11882                                        : int [1:2] 20590 39\n",
      "  ..$ entorhinal_cortex_GSE18696                                        : int [1:2] 20590 12\n",
      "  ..$ entorhinal_cortex_GSE5281                                         : int [1:2] 20590 13\n",
      "  ..$ esophageal_squamous_epithelium_GSE26886                           : int [1:2] 20590 19\n",
      "  ..$ fallopian_tube_epithelium_GSE10971                                : int [1:2] 20590 12\n",
      "  ..$ fetal_cartilage_GSE6565                                           : int [1:2] 20590 10\n",
      "  ..$ fetal_lung_GSE14334                                               : int [1:2] 20590 36\n",
      "  ..$ forearm_epdermis_GSE15101                                         : int [1:2] 20590 13\n",
      "  ..$ head_and_neck_epithelial_cells_GSE6791                            : int [1:2] 20590 14\n",
      "  ..$ hippocampus_GSE11882                                              : int [1:2] 20590 43\n",
      "  ..$ hippocampus_GSE5281                                               : int [1:2] 20590 13\n",
      "  ..$ intestinal_mucosa_GSE7821                                         : int [1:2] 20590 40\n",
      "  ..$ kidney_GSE9489;GSE9493                                            : int [1:2] 20590 13\n",
      "  ..$ kidney_cortex_GSE36895                                            : int [1:2] 20590 23\n",
      "  ..$ leukocytes_GSE16059                                               : int [1:2] 20590 44\n",
      "  ..$ liver_GSE14668                                                    : int [1:2] 20590 20\n",
      "  ..$ liver_GSE29721                                                    : int [1:2] 20590 10\n",
      "  ..$ liver_GSE6764                                                     : int [1:2] 20590 10\n",
      "  ..$ lung_GSE18842                                                     : int [1:2] 20590 45\n",
      "  ..$ lung_GSE19188                                                     : int [1:2] 20590 65\n",
      "  ..$ lung_GSE19804                                                     : int [1:2] 20590 60\n",
      "  ..$ lymphocytes_GSE8762                                               : int [1:2] 20590 10\n",
      "  ..$ maqc_sample_astratagene_universal_human_reference_rna_GSE5350     : int [1:2] 20590 30\n",
      "  ..$ maqc_sample_bambion_human_brain_reference_rna_GSE5350             : int [1:2] 20590 30\n",
      "  ..$ maqc_sample_cmaqc_samples_a_and_b_mixed_at_75_25_ratio_GSE5350    : int [1:2] 20590 30\n",
      "  ..$ maqc_sample_dmaqc_samples_a_and_b_mixed_at_25_75_ratio_GSE5350    : int [1:2] 20590 30\n",
      "  ..$ medial_temporal_gyrus_GSE5281                                     : int [1:2] 20590 12\n",
      "  ..$ myometrium_GSE12814                                               : int [1:2] 20590 11\n",
      "  ..$ myometrium_GSE13319                                               : int [1:2] 20590 27\n",
      "  ..$ myometrium_GSE7307                                                : int [1:2] 20590 27\n",
      "  ..$ nasal_tissue_GSE27263                                             : int [1:2] 20590 20\n",
      "  ..$ nasopharyngeal_epithelial_cells_GSE12452                          : int [1:2] 20590 10\n",
      "  ..$ oral_tissue_GSE30784                                              : int [1:2] 20590 45\n",
      "  ..$ oral_tissue_GSE42743                                              : int [1:2] 20590 29\n",
      "  ..$ ovarian_surface_epithelium_GSE14407                               : int [1:2] 20590 12\n",
      "  ..$ pancreas_GSE15471                                                 : int [1:2] 20590 39\n",
      "  ..$ pancreas_GSE16515                                                 : int [1:2] 20590 16\n",
      "  ..$ parotid_gland_GSE40611                                            : int [1:2] 20590 18\n",
      "  ..$ parotid_gland_GSE8764                                             : int [1:2] 20590 13\n",
      "  ..$ pbmc_GSE11083                                                     : int [1:2] 20590 15\n",
      "  ..$ pbmc_GSE13501                                                     : int [1:2] 20590 32\n",
      "  ..$ pbmc_GSE14642                                                     : int [1:2] 20590 20\n",
      "  ..$ pbmc_GSE17114                                                     : int [1:2] 20590 14\n",
      "  ..$ pbmc_GSE19314                                                     : int [1:2] 20590 20\n",
      "  ..$ pbmc_GSE21942                                                     : int [1:2] 20590 15\n",
      "  ..$ pbmc_GSE22255                                                     : int [1:2] 20590 20\n",
      "  ..$ pbmc_GSE22356                                                     : int [1:2] 20590 10\n",
      "  ..$ pbmc_GSE27034                                                     : int [1:2] 20590 18\n",
      "  ..$ pbmc_GSE27562                                                     : int [1:2] 20590 31\n",
      "  ..$ pbmc_GSE7753                                                      : int [1:2] 20590 30\n",
      "  ..$ pericardial_adipose_tissue_GSE26339                               : int [1:2] 20590 11\n",
      "  ..$ placenta_GSE9984                                                  : int [1:2] 20590 12\n",
      "  .. [list output truncated]\n"
     ]
    }
   ],
   "source": [
    "# Verify that the matrices have the correct dimensions and the splitting was successful\n",
    "str(res)"
   ]
  }
 ],
 "metadata": {
  "kernelspec": {
   "display_name": "R",
   "language": "R",
   "name": "ir"
  },
  "language_info": {
   "codemirror_mode": "r",
   "file_extension": ".r",
   "mimetype": "text/x-r-source",
   "name": "R",
   "pygments_lexer": "r",
   "version": "4.4.1"
  }
 },
 "nbformat": 4,
 "nbformat_minor": 5
}
