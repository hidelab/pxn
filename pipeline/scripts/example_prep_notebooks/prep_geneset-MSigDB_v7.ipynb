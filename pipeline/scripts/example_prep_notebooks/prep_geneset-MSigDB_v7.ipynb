{
 "cells": [
  {
   "cell_type": "markdown",
   "id": "6b1c6299-9373-4494-99b3-e07dc5a8b893",
   "metadata": {},
   "source": [
    "# Process MSigDB v7\n",
    "\n",
    "---\n",
    "\n",
    "This is an example notebook to generate the standard pathway table expected by the first step of the pipeline using canonical pathways from MSigDB. \n",
    "\n",
    "\n",
    "#### Table format\n",
    "\n",
    "The standard table must have only two columns named `set_name` and `genes` containing the gene set or pathway name and entrez gene IDs. If a gene set has 10 genes in it, there should be 10 rows for that particular gene set, all with the same gene set name. The genes MUST be represented with their Entrez ID. \n",
    "\n"
   ]
  },
  {
   "cell_type": "code",
   "execution_count": 1,
   "id": "f4ee0b26-5d8b-473d-a6f9-ec31a107bff0",
   "metadata": {},
   "outputs": [],
   "source": [
    "suppressPackageStartupMessages({\n",
    "    library(dplyr)\n",
    "    library(plyr)\n",
    "    library(biomaRt)\n",
    "    library(data.table)\n",
    "})\n",
    "options(stringsAsFactors=FALSE)"
   ]
  },
  {
   "cell_type": "markdown",
   "id": "398fd6b4-f772-4de9-8e28-529575b10cda",
   "metadata": {},
   "source": [
    "### Input settings"
   ]
  },
  {
   "cell_type": "code",
   "execution_count": 2,
   "id": "bdf88e3b-dfe3-4268-bf58-ab1eb93769cb",
   "metadata": {},
   "outputs": [],
   "source": [
    "# Unprocessed gene set file\n",
    "infile<-'~/projects/pdxn_2.0/data/gene_sets/MSigDB_v7/MSigDBV7_Canonical.RDS'\n",
    "outfile<-'../../input/std_gene_tables/MSigDB_v7_pathway_table.csv'"
   ]
  },
  {
   "cell_type": "markdown",
   "id": "027823ca-d294-407f-9116-c13a55359c00",
   "metadata": {},
   "source": [
    "### Load raw data"
   ]
  },
  {
   "cell_type": "code",
   "execution_count": 3,
   "id": "4aa9ada3-f2ad-4108-b14c-68b89a2bbcd9",
   "metadata": {},
   "outputs": [
    {
     "data": {
      "text/html": [
       "<strong>$Pathway.KEGG_GLYCOLYSIS_GLUCONEOGENESIS</strong> = <style>\n",
       ".list-inline {list-style: none; margin:0; padding: 0}\n",
       ".list-inline>li {display: inline-block}\n",
       ".list-inline>li:not(:last-child)::after {content: \"\\00b7\"; padding: 0 .5ex}\n",
       "</style>\n",
       "<ol class=list-inline><li>'55902'</li><li>'2645'</li><li>'5232'</li><li>'5230'</li><li>'5162'</li><li>'5160'</li><li>'5161'</li><li>'55276'</li><li>'7167'</li><li>'84532'</li><li>'2203'</li><li>'125'</li><li>'3099'</li><li>'126'</li><li>'3098'</li><li>'3101'</li><li>'127'</li><li>'5224'</li><li>'128'</li><li>'5223'</li><li>'124'</li><li>'230'</li><li>'501'</li><li>'92483'</li><li>'5313'</li><li>'160287'</li><li>'2023'</li><li>'5315'</li><li>'5214'</li><li>'669'</li><li>'5106'</li><li>'5105'</li><li>'219'</li><li>'217'</li><li>'218'</li><li>'10327'</li><li>'8789'</li><li>'5213'</li><li>'5211'</li><li>'3948'</li><li>'2597'</li><li>'2027'</li><li>'2026'</li><li>'441531'</li><li>'131'</li><li>'130'</li><li>'3945'</li><li>'220'</li><li>'221'</li><li>'222'</li><li>'223'</li><li>'224'</li><li>'130589'</li><li>'226'</li><li>'1738'</li><li>'1737'</li><li>'229'</li><li>'57818'</li><li>'3939'</li><li>'2538'</li><li>'5236'</li><li>'2821'</li></ol>\n"
      ],
      "text/latex": [
       "\\textbf{\\$Pathway.KEGG\\_GLYCOLYSIS\\_GLUCONEOGENESIS} = \\begin{enumerate*}\n",
       "\\item '55902'\n",
       "\\item '2645'\n",
       "\\item '5232'\n",
       "\\item '5230'\n",
       "\\item '5162'\n",
       "\\item '5160'\n",
       "\\item '5161'\n",
       "\\item '55276'\n",
       "\\item '7167'\n",
       "\\item '84532'\n",
       "\\item '2203'\n",
       "\\item '125'\n",
       "\\item '3099'\n",
       "\\item '126'\n",
       "\\item '3098'\n",
       "\\item '3101'\n",
       "\\item '127'\n",
       "\\item '5224'\n",
       "\\item '128'\n",
       "\\item '5223'\n",
       "\\item '124'\n",
       "\\item '230'\n",
       "\\item '501'\n",
       "\\item '92483'\n",
       "\\item '5313'\n",
       "\\item '160287'\n",
       "\\item '2023'\n",
       "\\item '5315'\n",
       "\\item '5214'\n",
       "\\item '669'\n",
       "\\item '5106'\n",
       "\\item '5105'\n",
       "\\item '219'\n",
       "\\item '217'\n",
       "\\item '218'\n",
       "\\item '10327'\n",
       "\\item '8789'\n",
       "\\item '5213'\n",
       "\\item '5211'\n",
       "\\item '3948'\n",
       "\\item '2597'\n",
       "\\item '2027'\n",
       "\\item '2026'\n",
       "\\item '441531'\n",
       "\\item '131'\n",
       "\\item '130'\n",
       "\\item '3945'\n",
       "\\item '220'\n",
       "\\item '221'\n",
       "\\item '222'\n",
       "\\item '223'\n",
       "\\item '224'\n",
       "\\item '130589'\n",
       "\\item '226'\n",
       "\\item '1738'\n",
       "\\item '1737'\n",
       "\\item '229'\n",
       "\\item '57818'\n",
       "\\item '3939'\n",
       "\\item '2538'\n",
       "\\item '5236'\n",
       "\\item '2821'\n",
       "\\end{enumerate*}\n"
      ],
      "text/markdown": [
       "**$Pathway.KEGG_GLYCOLYSIS_GLUCONEOGENESIS** = 1. '55902'\n",
       "2. '2645'\n",
       "3. '5232'\n",
       "4. '5230'\n",
       "5. '5162'\n",
       "6. '5160'\n",
       "7. '5161'\n",
       "8. '55276'\n",
       "9. '7167'\n",
       "10. '84532'\n",
       "11. '2203'\n",
       "12. '125'\n",
       "13. '3099'\n",
       "14. '126'\n",
       "15. '3098'\n",
       "16. '3101'\n",
       "17. '127'\n",
       "18. '5224'\n",
       "19. '128'\n",
       "20. '5223'\n",
       "21. '124'\n",
       "22. '230'\n",
       "23. '501'\n",
       "24. '92483'\n",
       "25. '5313'\n",
       "26. '160287'\n",
       "27. '2023'\n",
       "28. '5315'\n",
       "29. '5214'\n",
       "30. '669'\n",
       "31. '5106'\n",
       "32. '5105'\n",
       "33. '219'\n",
       "34. '217'\n",
       "35. '218'\n",
       "36. '10327'\n",
       "37. '8789'\n",
       "38. '5213'\n",
       "39. '5211'\n",
       "40. '3948'\n",
       "41. '2597'\n",
       "42. '2027'\n",
       "43. '2026'\n",
       "44. '441531'\n",
       "45. '131'\n",
       "46. '130'\n",
       "47. '3945'\n",
       "48. '220'\n",
       "49. '221'\n",
       "50. '222'\n",
       "51. '223'\n",
       "52. '224'\n",
       "53. '130589'\n",
       "54. '226'\n",
       "55. '1738'\n",
       "56. '1737'\n",
       "57. '229'\n",
       "58. '57818'\n",
       "59. '3939'\n",
       "60. '2538'\n",
       "61. '5236'\n",
       "62. '2821'\n",
       "\n",
       "\n"
      ],
      "text/plain": [
       "$Pathway.KEGG_GLYCOLYSIS_GLUCONEOGENESIS\n",
       " [1] \"55902\"  \"2645\"   \"5232\"   \"5230\"   \"5162\"   \"5160\"   \"5161\"   \"55276\" \n",
       " [9] \"7167\"   \"84532\"  \"2203\"   \"125\"    \"3099\"   \"126\"    \"3098\"   \"3101\"  \n",
       "[17] \"127\"    \"5224\"   \"128\"    \"5223\"   \"124\"    \"230\"    \"501\"    \"92483\" \n",
       "[25] \"5313\"   \"160287\" \"2023\"   \"5315\"   \"5214\"   \"669\"    \"5106\"   \"5105\"  \n",
       "[33] \"219\"    \"217\"    \"218\"    \"10327\"  \"8789\"   \"5213\"   \"5211\"   \"3948\"  \n",
       "[41] \"2597\"   \"2027\"   \"2026\"   \"441531\" \"131\"    \"130\"    \"3945\"   \"220\"   \n",
       "[49] \"221\"    \"222\"    \"223\"    \"224\"    \"130589\" \"226\"    \"1738\"   \"1737\"  \n",
       "[57] \"229\"    \"57818\"  \"3939\"   \"2538\"   \"5236\"   \"2821\"  \n"
      ]
     },
     "metadata": {},
     "output_type": "display_data"
    }
   ],
   "source": [
    "gs<-readRDS(infile)\n",
    "head(gs,1)"
   ]
  },
  {
   "cell_type": "markdown",
   "id": "4e4d35c9-4fcb-4f48-8cd6-4c284beb2851",
   "metadata": {},
   "source": [
    "### Processing"
   ]
  },
  {
   "cell_type": "code",
   "execution_count": 4,
   "id": "719ff730-d09c-4b65-a834-c7a0ec152396",
   "metadata": {},
   "outputs": [],
   "source": [
    "gs_df <- data.frame(set_name=names(gs)) %>%\n",
    "         mutate(genes=purrr::map(set_name,function(pn){gs[[pn]]})) %>%\n",
    "         tidyr::unnest(genes) %>%\n",
    "         filter(!grepl('Static_Module',set_name)) %>% # Remove static module pathways\n",
    "         filter(!grepl('L1000',set_name)) # Remove LINCS pathways"
   ]
  },
  {
   "cell_type": "markdown",
   "id": "1c3162ca-f78d-4f94-8e7c-23672137d2f9",
   "metadata": {},
   "source": [
    "### Visualize standard table"
   ]
  },
  {
   "cell_type": "code",
   "execution_count": 5,
   "id": "6d7c6bc7-7293-4669-82c4-00f5ad041c66",
   "metadata": {},
   "outputs": [
    {
     "data": {
      "text/html": [
       "<table class=\"dataframe\">\n",
       "<caption>A tibble: 6 × 2</caption>\n",
       "<thead>\n",
       "\t<tr><th scope=col>set_name</th><th scope=col>genes</th></tr>\n",
       "\t<tr><th scope=col>&lt;chr&gt;</th><th scope=col>&lt;chr&gt;</th></tr>\n",
       "</thead>\n",
       "<tbody>\n",
       "\t<tr><td>Pathway.KEGG_GLYCOLYSIS_GLUCONEOGENESIS</td><td>55902</td></tr>\n",
       "\t<tr><td>Pathway.KEGG_GLYCOLYSIS_GLUCONEOGENESIS</td><td>2645 </td></tr>\n",
       "\t<tr><td>Pathway.KEGG_GLYCOLYSIS_GLUCONEOGENESIS</td><td>5232 </td></tr>\n",
       "\t<tr><td>Pathway.KEGG_GLYCOLYSIS_GLUCONEOGENESIS</td><td>5230 </td></tr>\n",
       "\t<tr><td>Pathway.KEGG_GLYCOLYSIS_GLUCONEOGENESIS</td><td>5162 </td></tr>\n",
       "\t<tr><td>Pathway.KEGG_GLYCOLYSIS_GLUCONEOGENESIS</td><td>5160 </td></tr>\n",
       "</tbody>\n",
       "</table>\n"
      ],
      "text/latex": [
       "A tibble: 6 × 2\n",
       "\\begin{tabular}{ll}\n",
       " set\\_name & genes\\\\\n",
       " <chr> & <chr>\\\\\n",
       "\\hline\n",
       "\t Pathway.KEGG\\_GLYCOLYSIS\\_GLUCONEOGENESIS & 55902\\\\\n",
       "\t Pathway.KEGG\\_GLYCOLYSIS\\_GLUCONEOGENESIS & 2645 \\\\\n",
       "\t Pathway.KEGG\\_GLYCOLYSIS\\_GLUCONEOGENESIS & 5232 \\\\\n",
       "\t Pathway.KEGG\\_GLYCOLYSIS\\_GLUCONEOGENESIS & 5230 \\\\\n",
       "\t Pathway.KEGG\\_GLYCOLYSIS\\_GLUCONEOGENESIS & 5162 \\\\\n",
       "\t Pathway.KEGG\\_GLYCOLYSIS\\_GLUCONEOGENESIS & 5160 \\\\\n",
       "\\end{tabular}\n"
      ],
      "text/markdown": [
       "\n",
       "A tibble: 6 × 2\n",
       "\n",
       "| set_name &lt;chr&gt; | genes &lt;chr&gt; |\n",
       "|---|---|\n",
       "| Pathway.KEGG_GLYCOLYSIS_GLUCONEOGENESIS | 55902 |\n",
       "| Pathway.KEGG_GLYCOLYSIS_GLUCONEOGENESIS | 2645  |\n",
       "| Pathway.KEGG_GLYCOLYSIS_GLUCONEOGENESIS | 5232  |\n",
       "| Pathway.KEGG_GLYCOLYSIS_GLUCONEOGENESIS | 5230  |\n",
       "| Pathway.KEGG_GLYCOLYSIS_GLUCONEOGENESIS | 5162  |\n",
       "| Pathway.KEGG_GLYCOLYSIS_GLUCONEOGENESIS | 5160  |\n",
       "\n"
      ],
      "text/plain": [
       "  set_name                                genes\n",
       "1 Pathway.KEGG_GLYCOLYSIS_GLUCONEOGENESIS 55902\n",
       "2 Pathway.KEGG_GLYCOLYSIS_GLUCONEOGENESIS 2645 \n",
       "3 Pathway.KEGG_GLYCOLYSIS_GLUCONEOGENESIS 5232 \n",
       "4 Pathway.KEGG_GLYCOLYSIS_GLUCONEOGENESIS 5230 \n",
       "5 Pathway.KEGG_GLYCOLYSIS_GLUCONEOGENESIS 5162 \n",
       "6 Pathway.KEGG_GLYCOLYSIS_GLUCONEOGENESIS 5160 "
      ]
     },
     "metadata": {},
     "output_type": "display_data"
    }
   ],
   "source": [
    "head(gs_df)"
   ]
  },
  {
   "cell_type": "code",
   "execution_count": 6,
   "id": "7d27a738-40b7-4f4b-beba-003532138f45",
   "metadata": {},
   "outputs": [
    {
     "data": {
      "text/html": [
       "114960"
      ],
      "text/latex": [
       "114960"
      ],
      "text/markdown": [
       "114960"
      ],
      "text/plain": [
       "[1] 114960"
      ]
     },
     "metadata": {},
     "output_type": "display_data"
    }
   ],
   "source": [
    "nrow(gs_df)"
   ]
  },
  {
   "cell_type": "code",
   "execution_count": 7,
   "id": "c059c41d-3fe4-420e-9ea0-9b350ae05551",
   "metadata": {},
   "outputs": [
    {
     "name": "stderr",
     "output_type": "stream",
     "text": [
      "Total number of pathways = 2199\n",
      "\n",
      "Total number of unique genes = 11763\n",
      "\n"
     ]
    }
   ],
   "source": [
    "message('Total number of pathways = ',length(unique(gs_df$set_name)))\n",
    "message('Total number of unique genes = ',length(unique(gs_df$genes)))"
   ]
  },
  {
   "cell_type": "markdown",
   "id": "677099bf-79b7-45db-bdd9-a8e8c8047ff3",
   "metadata": {},
   "source": [
    "### Write pathway table"
   ]
  },
  {
   "cell_type": "code",
   "execution_count": 8,
   "id": "2f86df59-1bdb-4f08-a5ff-8e347a1d753e",
   "metadata": {},
   "outputs": [],
   "source": [
    "write.table(gs_df,\n",
    "            file = outfile,\n",
    "            quote = F,\n",
    "            sep = \",\",\n",
    "            row.names = F)"
   ]
  }
 ],
 "metadata": {
  "kernelspec": {
   "display_name": "R",
   "language": "R",
   "name": "ir"
  },
  "language_info": {
   "codemirror_mode": "r",
   "file_extension": ".r",
   "mimetype": "text/x-r-source",
   "name": "R",
   "pygments_lexer": "r",
   "version": "4.4.1"
  }
 },
 "nbformat": 4,
 "nbformat_minor": 5
}
