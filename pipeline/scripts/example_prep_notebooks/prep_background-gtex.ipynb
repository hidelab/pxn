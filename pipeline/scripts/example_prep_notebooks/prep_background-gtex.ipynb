{
 "cells": [
  {
   "cell_type": "markdown",
   "id": "fe42f70c-c8a6-4312-89a3-453765fed7a6",
   "metadata": {},
   "source": [
    "# Preparing the expression background - Gtex toil dataset\n",
    "\n",
    "The dataset will be re-structured in the directory `../input/gene_expression/[DATASETNAME]`. The code internally will generate one `metadata_[DATASTNAME].csv` inside that folder. This file is a table with two columns: tissue (name of the tissue) and nsamples (number of samples), the names used for tissues inside this table will be the ones used to name the individual tissue folders containing the expression data files and to build the job array list. In addition, it will create one folder per tissue inside `../input/gene_expression/[DATASETNAME]/subgroups` , inside each tissue folder two files will be created: `[tissue].RDS` and `[tissue].csv` with the same counts matrix stored in the two different formats.  \n",
    "\n",
    "In summary, the folder will look like this:\n",
    "\n",
    "- `../input/gene_expression/[DATASETNAME]`   \n",
    "    - `metadata_[DATASTNAME].csv` dataset metadata file generated automatically when splitting the data into tissues\n",
    "    - `genes_[DATASETNAME].csv` single-column file generated automatically with gene ids of all genes in universe\n",
    "    - `subgroups`   \n",
    "        - `tissue_1`   \n",
    "            - `tissue_1.csv` expression matrix table in CSV format   \n",
    "        - `tissue_2`    \n",
    "            - `tissue_2.csv`\n",
    "         \n",
    "**Definition of the gene universe**\n",
    "\n",
    "The file `genes_[DATASETNAME].csv` contains the list of genes in the gene universe of this dataset. This list contains the genes that have at least `min_cts` in at least `min_sam_cts` samples. By default, these parameters are set to 3 counts in at least 1 sample. These filters are part of the changes implemented in version 2.2 and generate datasets with the tag `gfilter`."
   ]
  },
  {
   "cell_type": "code",
   "execution_count": 1,
   "id": "f4ee0b26-5d8b-473d-a6f9-ec31a107bff0",
   "metadata": {
    "scrolled": true
   },
   "outputs": [],
   "source": [
    "suppressPackageStartupMessages({\n",
    "    library(dplyr)\n",
    "    library(plyr)\n",
    "    library(biomaRt)\n",
    "    library(data.table)\n",
    "    library(furrr)\n",
    "})\n",
    "source('../funcs/misc.R')\n",
    "options(stringsAsFactors=FALSE)"
   ]
  },
  {
   "cell_type": "markdown",
   "id": "87b04f54-f450-4946-b730-312a45a26ed2",
   "metadata": {},
   "source": [
    "## PDxN requirements"
   ]
  },
  {
   "cell_type": "code",
   "execution_count": 2,
   "id": "f0454fcf-8b34-4da8-b4d9-3403bd4e27f8",
   "metadata": {},
   "outputs": [],
   "source": [
    "# Dataset name\n",
    "dsname<-\"gtextoil_gfilter\" # Dataset name (will be used in the config file) \n",
    "\n",
    "# Filtering parameters\n",
    "min_cts<-3 # Minimum number of gene counts\n",
    "min_sam_cts<-1 # Minimum number of samples with min_cts\n",
    "min_sam_tissue<-10 # Minimum number of samples per tissue"
   ]
  },
  {
   "cell_type": "code",
   "execution_count": 3,
   "id": "8618c313-d8b3-4b9a-b2b5-e4d203ab4eeb",
   "metadata": {},
   "outputs": [
    {
     "name": "stderr",
     "output_type": "stream",
     "text": [
      "Creating dataset directory at ../../input/gene_expression/gtextoil_gfilter\n",
      "\n"
     ]
    }
   ],
   "source": [
    "# Directory structure - DO NOT CHANGE\n",
    "output_dir <- file.path(\"../../input/gene_expression\",dsname)\n",
    "metadata_file <- file.path(output_dir,paste0(\"metadata_\",dsname,\".csv\"))\n",
    "gene_file <- file.path(output_dir,paste0(\"genes_\",dsname,\".csv\"))\n",
    "create_directory(output_dir)\n",
    "message(\"Creating dataset directory at \",output_dir)"
   ]
  },
  {
   "cell_type": "markdown",
   "id": "53b105e5-7bd3-46d4-beb8-f0e1b6beb6b9",
   "metadata": {},
   "source": [
    "## Dataset-specific inputs"
   ]
  },
  {
   "cell_type": "code",
   "execution_count": 3,
   "id": "476fc0b3-2681-4614-becd-4ff2585f0d9b",
   "metadata": {},
   "outputs": [],
   "source": [
    "# Dataset-specific inputs\n",
    "indir<-\"~/projects/pdxn_2.0/data/background/gtex_toil\" # Directory with raw data\n",
    "ctsfile<-\"gtex_RSEM_Hugo_norm_count\" # File with gene counts\n",
    "genefile<-\"gtex_hugo_gencode_good_hg38_v23comp_probemap\" # File with gene metadata\n",
    "metafile<-\"GTEX_phenotype\" # File with sample metadata"
   ]
  },
  {
   "cell_type": "code",
   "execution_count": 4,
   "id": "acf8b8f1-1b51-420a-8480-566b75e00344",
   "metadata": {},
   "outputs": [],
   "source": [
    "# Load dataset\n",
    "cts <- fread(file.path(indir,ctsfile))\n",
    "idmap<-fread(file.path(indir,genefile))\n",
    "meta <- fread(file.path(indir,metafile))"
   ]
  },
  {
   "cell_type": "markdown",
   "id": "fbc4fe7c-bccf-46da-b91d-ee3d6a8fabee",
   "metadata": {},
   "source": [
    "## Process original files \n",
    "\n",
    "This section takes the raw files downloaded from the GTex website and re-formats the counts, gene and sample metadata to:\n",
    "1. Have accurate and computer-readable annotations of the tissue of origin \n",
    "2. Map the ENSEMBL gene IDs to entrez gene IDs.\n",
    "3. Process the gene counts in the case of multiple ENSEMBL IDs mapping to a single entrez IDs by taking the median counts.\n",
    "4. Generate a global count table of Entrez gene IDs x all samples (with valid tissue annotations) for the next step"
   ]
  },
  {
   "cell_type": "markdown",
   "id": "c18910db-8cbb-4143-967e-acf7c1bdf839",
   "metadata": {},
   "source": [
    "#### Re-shape metadata table"
   ]
  },
  {
   "cell_type": "code",
   "execution_count": 5,
   "id": "70b21908-e2b6-43ef-be86-e602409d8eb6",
   "metadata": {
    "scrolled": true
   },
   "outputs": [],
   "source": [
    "# Filter samples \n",
    "meta <- meta %>%\n",
    "             dplyr::rename(\"primary_site\"=\"_primary_site\",\n",
    "                           \"gender\"=\"_gender\",\n",
    "                           \"patient\"=\"_patient\",\n",
    "                           \"cohort\"=\"_cohort\",\n",
    "                           \"body_site\"=\"body_site_detail (SMTSD)\") %>%\n",
    "             filter(primary_site!=\"<not provided>\") %>%\n",
    "             mutate(primary_site=gsub(\" \",\"\",primary_site),\n",
    "                    body_site=gsub(\" | - \",\"\",body_site) %>% gsub(\"\\\\(\",\"-\",.) %>% gsub(\"\\\\)\",\"\",.)) %>%\n",
    "             mutate(tissue = paste(primary_site,\n",
    "                                   body_site,\n",
    "                                   sep=\"_\"))  %>%\n",
    "             mutate(tissue = ifelse(primary_site==body_site,primary_site,tissue))"
   ]
  },
  {
   "cell_type": "code",
   "execution_count": 6,
   "id": "c2a553d9-c763-49d4-97fe-407754f36d6b",
   "metadata": {},
   "outputs": [],
   "source": [
    "metafile.out<-paste0(indir,\"/\",metafile,\"_processed.tsv\")\n",
    "write.table(meta,file=metafile.out,quote=FALSE,sep=\"\\t\",row.names=FALSE,col.names = TRUE)"
   ]
  },
  {
   "cell_type": "markdown",
   "id": "8f73a21d-25f6-4285-b4cf-2535d0721285",
   "metadata": {},
   "source": [
    "#### Map gene symbols to entrez IDs"
   ]
  },
  {
   "cell_type": "code",
   "execution_count": 7,
   "id": "4fa9bb55-9d55-499a-ae8f-956e48a69730",
   "metadata": {},
   "outputs": [],
   "source": [
    "# Map hugo gene names to entrez ids\n",
    "ensembl <- useEnsembl(biomart = \"ensembl\", dataset = \"hsapiens_gene_ensembl\") \n",
    "attributes <- c(\"hgnc_symbol\", \"entrezgene_id\")\n",
    "gene_mappings <- getBM(attributes = attributes, \n",
    "                       filters = \"hgnc_symbol\", \n",
    "                       values = idmap$id, \n",
    "                       mart = ensembl) %>%\n",
    "                 filter(!is.na(entrezgene_id))\n",
    "write.table(gene_mappings,file=file.path(indir,\"gtex_RSEM_Hugo_norm_count_gene_mappings.csv\"),row.names=F,quote=F,sep=\",\")"
   ]
  },
  {
   "cell_type": "code",
   "execution_count": 8,
   "id": "d3555024-a5c2-42fb-afa4-45ecc76c3f38",
   "metadata": {},
   "outputs": [
    {
     "data": {
      "text/html": [
       "<style>\n",
       ".list-inline {list-style: none; margin:0; padding: 0}\n",
       ".list-inline>li {display: inline-block}\n",
       ".list-inline>li:not(:last-child)::after {content: \"\\00b7\"; padding: 0 .5ex}\n",
       "</style>\n",
       "<ol class=list-inline><li>23441</li><li>2</li></ol>\n"
      ],
      "text/latex": [
       "\\begin{enumerate*}\n",
       "\\item 23441\n",
       "\\item 2\n",
       "\\end{enumerate*}\n"
      ],
      "text/markdown": [
       "1. 23441\n",
       "2. 2\n",
       "\n",
       "\n"
      ],
      "text/plain": [
       "[1] 23441     2"
      ]
     },
     "metadata": {},
     "output_type": "display_data"
    },
    {
     "data": {
      "text/html": [
       "<table class=\"dataframe\">\n",
       "<caption>A data.frame: 6 × 2</caption>\n",
       "<thead>\n",
       "\t<tr><th></th><th scope=col>hgnc_symbol</th><th scope=col>entrezgene_id</th></tr>\n",
       "\t<tr><th></th><th scope=col>&lt;chr&gt;</th><th scope=col>&lt;int&gt;</th></tr>\n",
       "</thead>\n",
       "<tbody>\n",
       "\t<tr><th scope=row>1</th><td>AAAS        </td><td>     8086</td></tr>\n",
       "\t<tr><th scope=row>2</th><td>AAGAB       </td><td>    79719</td></tr>\n",
       "\t<tr><th scope=row>3</th><td>ABAT        </td><td>       18</td></tr>\n",
       "\t<tr><th scope=row>4</th><td>ABHD14A-ACY1</td><td>100526760</td></tr>\n",
       "\t<tr><th scope=row>5</th><td>ABI1        </td><td>    10006</td></tr>\n",
       "\t<tr><th scope=row>6</th><td>ABI2        </td><td>    10152</td></tr>\n",
       "</tbody>\n",
       "</table>\n"
      ],
      "text/latex": [
       "A data.frame: 6 × 2\n",
       "\\begin{tabular}{r|ll}\n",
       "  & hgnc\\_symbol & entrezgene\\_id\\\\\n",
       "  & <chr> & <int>\\\\\n",
       "\\hline\n",
       "\t1 & AAAS         &      8086\\\\\n",
       "\t2 & AAGAB        &     79719\\\\\n",
       "\t3 & ABAT         &        18\\\\\n",
       "\t4 & ABHD14A-ACY1 & 100526760\\\\\n",
       "\t5 & ABI1         &     10006\\\\\n",
       "\t6 & ABI2         &     10152\\\\\n",
       "\\end{tabular}\n"
      ],
      "text/markdown": [
       "\n",
       "A data.frame: 6 × 2\n",
       "\n",
       "| <!--/--> | hgnc_symbol &lt;chr&gt; | entrezgene_id &lt;int&gt; |\n",
       "|---|---|---|\n",
       "| 1 | AAAS         |      8086 |\n",
       "| 2 | AAGAB        |     79719 |\n",
       "| 3 | ABAT         |        18 |\n",
       "| 4 | ABHD14A-ACY1 | 100526760 |\n",
       "| 5 | ABI1         |     10006 |\n",
       "| 6 | ABI2         |     10152 |\n",
       "\n"
      ],
      "text/plain": [
       "  hgnc_symbol  entrezgene_id\n",
       "1 AAAS              8086    \n",
       "2 AAGAB            79719    \n",
       "3 ABAT                18    \n",
       "4 ABHD14A-ACY1 100526760    \n",
       "5 ABI1             10006    \n",
       "6 ABI2             10152    "
      ]
     },
     "metadata": {},
     "output_type": "display_data"
    }
   ],
   "source": [
    "dim(gene_mappings)\n",
    "head(gene_mappings)"
   ]
  },
  {
   "cell_type": "code",
   "execution_count": 9,
   "id": "9d658efe-fe2a-4292-ba40-de023f01677d",
   "metadata": {},
   "outputs": [
    {
     "name": "stderr",
     "output_type": "stream",
     "text": [
      "\u001b[1m\u001b[22mJoining with `by = join_by(hgnc_symbol)`\n"
     ]
    }
   ],
   "source": [
    "# Collapse multiple probes to their corresponding entrez gene id by taking gene-level median values\n",
    "cts.proc <- cts %>%\n",
    "            dplyr::rename('hgnc_symbol'='sample') %>%\n",
    "            inner_join(.,gene_mappings) %>% \n",
    "            as.data.frame() %>%\n",
    "            dplyr::select(-hgnc_symbol) %>%\n",
    "            group_by(entrezgene_id) %>%\n",
    "            dplyr::summarise_all(.,median)"
   ]
  },
  {
   "cell_type": "code",
   "execution_count": null,
   "id": "a4bac242-b98b-466d-9661-160f647608b3",
   "metadata": {},
   "outputs": [],
   "source": [
    "# Rename rows to entrez gene ids\n",
    "cts.proc <- cts.proc %>%\n",
    "            tibble::column_to_rownames('entrezgene_id')\n",
    "write.table(cts.proc,file=file.path(indir,\"gtex_RSEM_Hugo_norm_count_entrez_mapped.csv\"),\n",
    "            row.names=TRUE,quote=FALSE)"
   ]
  },
  {
   "cell_type": "code",
   "execution_count": null,
   "id": "b7210457-8927-4964-87a1-f2686392a7c6",
   "metadata": {},
   "outputs": [],
   "source": [
    "cts.proc[1:10,1:10]"
   ]
  },
  {
   "cell_type": "markdown",
   "id": "27c88bd1-4f8f-42fc-8caf-e1a0faab7ec4",
   "metadata": {},
   "source": [
    "## Split dataset by tissue\n",
    "\n",
    "In this section we take the processed input files (counts and metadata) and split the global count matrix into different tissues to create the dataset structure required for PDxN:\n",
    "\n",
    "- `../input/gene_expression/[DATASETNAME]`   \n",
    "    - `metadata_[DATASTNAME].csv` dataset metadata file generated automatically when splitting the data into tissues\n",
    "    - `genes_[DATASETNAME].csv` single-column file generated automatically with gene ids of all genes in universe\n",
    "    - `subgroups`   \n",
    "        - `tissue_1`   \n",
    "            - `tissue_1.csv` expression matrix table in CSV format containing samples from tissue 1  \n",
    "        - `tissue_2`    \n",
    "            - `tissue_2.csv`expression matrix table in CSV format containing samples from tissue 2"
   ]
  },
  {
   "cell_type": "code",
   "execution_count": null,
   "id": "bd620820-8f40-4bfc-b3ab-05091ed833a9",
   "metadata": {},
   "outputs": [],
   "source": [
    "cts.proc<-read.table(file.path(indir,\"gtex_RSEM_Hugo_norm_count_entrez_mapped.csv\")) \n",
    "meta<-read.table(paste0(indir,\"/\",metafile,\"_processed.tsv\"),header = T)"
   ]
  },
  {
   "cell_type": "code",
   "execution_count": null,
   "id": "bd4ddf88-fc64-47d6-8999-aad1bcf5da71",
   "metadata": {},
   "outputs": [],
   "source": [
    "# Filter samples without tissue annotation removed at the metadata stage\n",
    "meta<-meta %>%\n",
    "        mutate(Sample_name = gsub(\"-\",\".\",Sample)) %>%\n",
    "        filter(Sample_name %in% colnames(cts.proc)) \n",
    "        \n",
    "cts.proc<-cts.proc[,meta$Sample_name] # Filter counts to match samples in metadata\n",
    "message(\"Discarded \",ncol(cts)-ncol(cts.proc),\" samples due to missing sample info\")"
   ]
  },
  {
   "cell_type": "code",
   "execution_count": null,
   "id": "ec2dbaed-1bd6-43f8-91ed-e639d4417350",
   "metadata": {},
   "outputs": [],
   "source": [
    "# Build list of count matrices by tissue\n",
    "cts.df <- meta %>%\n",
    "            dplyr::select(tissue,Sample_name) %>%\n",
    "            group_by(tissue) %>%\n",
    "            tidyr::nest(samples=c(Sample_name)) %>%\n",
    "            ungroup() %>%\n",
    "            mutate(data=purrr::map(samples,function(s,...){ cts.proc[,s[[1]]] } )) %>%\n",
    "            mutate(nsamples=length(samples))%>%\n",
    "            filter(nsamples>=min_sam_tissue) %>%\n",
    "            dplyr::select(tissue,data)\n",
    "cts.list <- cts.df$data\n",
    "names(cts.list) <- cts.df$tissue"
   ]
  },
  {
   "cell_type": "code",
   "execution_count": null,
   "id": "78e0b1c9-e396-4da9-94c4-8c860a5879f4",
   "metadata": {},
   "outputs": [],
   "source": [
    "# Filter gene expression matrices \n",
    "cts.list.filt <- filter_tissue_expr_list(cts_list = cts.list,\n",
    "                                       min_counts = min_cts,\n",
    "                                       min_samples = min_sam_cts,\n",
    "                                       gu_file = gene_file)\n",
    "names(cts.list.filt$filtered_cts) <- names(cts.list)"
   ]
  },
  {
   "cell_type": "code",
   "execution_count": null,
   "id": "ab88aee9-4e01-444c-b18d-f146c6dcb83b",
   "metadata": {},
   "outputs": [],
   "source": [
    "# Create tissue files  - the function writes the files internally \n",
    "res <- tissue_list_to_dirs(cts_list = cts.list.filt$filtered_cts,\n",
    "                           output_dir = output_dir,\n",
    "                           meta_file = metadata_file)"
   ]
  },
  {
   "cell_type": "code",
   "execution_count": null,
   "id": "287c48e5-1887-4d32-83e6-8a6f7ae2a1cd",
   "metadata": {
    "scrolled": true
   },
   "outputs": [],
   "source": [
    "# Verify that the matrices have the correct dimensions and the splitting was successful\n",
    "str(res)"
   ]
  }
 ],
 "metadata": {
  "kernelspec": {
   "display_name": "R",
   "language": "R",
   "name": "ir"
  },
  "language_info": {
   "codemirror_mode": "r",
   "file_extension": ".r",
   "mimetype": "text/x-r-source",
   "name": "R",
   "pygments_lexer": "r",
   "version": "4.4.1"
  }
 },
 "nbformat": 4,
 "nbformat_minor": 5
}
