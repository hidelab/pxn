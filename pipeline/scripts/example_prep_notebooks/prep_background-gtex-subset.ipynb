{
 "cells": [
  {
   "cell_type": "markdown",
   "id": "fe42f70c-c8a6-4312-89a3-453765fed7a6",
   "metadata": {},
   "source": [
    "# Preparing the expression background - Subset of Gtex toil dataset\n",
    "This notebook show an example of how to prepare a background dataset with only a subset of tissues from the GTex toil dataset. The dataset will be re-structured in the directory `../input/gene_expression/[DATASETNAME]`. The code internally will generate one `metadata_[DATASTNAME].csv` inside that folder. This file is a table with two columns: tissue (name of the tissue) and nsamples (number of samples), the names used for tissues inside this table will be the ones used to name the individual tissue folders containing the expression data files and to build the job array list. In addition, it will create one folder per tissue inside `../input/gene_expression/[DATASETNAME]/subgroups` , inside each tissue folder two files will be created: `[tissue].RDS` and `[tissue].csv` with the same counts matrix stored in the two different formats.  \n",
    "\n",
    "In summary, the folder will look like this:\n",
    "\n",
    "- `../input/gene_expression/[DATASETNAME]`   \n",
    "    - `metadata_[DATASTNAME].csv` dataset metadata file generated automatically when splitting the data into tissues\n",
    "    - `genes_[DATASETNAME].csv` single-column file generated automatically with gene ids of all genes in universe\n",
    "    - `subgroups`   \n",
    "        - `tissue_1`   \n",
    "            - `tissue_1.csv` expression matrix table in CSV format   \n",
    "        - `tissue_2`    \n",
    "            - `tissue_2.csv`\n",
    "         \n",
    "**Definition of the gene universe**\n",
    "\n",
    "The file `genes_[DATASETNAME].csv` contains the list of genes in the gene universe of this dataset. This list contains the genes that have at least `min_cts` in at least `min_sam_cts` samples. By default, these parameters are set to 3 counts in at least 1 sample. These filters are part of the changes implemented in version 2.2 and generate datasets with the tag `gfilter`."
   ]
  },
  {
   "cell_type": "code",
   "execution_count": 1,
   "id": "f4ee0b26-5d8b-473d-a6f9-ec31a107bff0",
   "metadata": {
    "scrolled": true
   },
   "outputs": [],
   "source": [
    "suppressPackageStartupMessages({\n",
    "    library(dplyr)\n",
    "    library(plyr)\n",
    "    library(biomaRt)\n",
    "    library(data.table)\n",
    "    library(furrr)\n",
    "})\n",
    "source('../funcs/misc.R')\n",
    "options(stringsAsFactors=FALSE)"
   ]
  },
  {
   "cell_type": "markdown",
   "id": "87b04f54-f450-4946-b730-312a45a26ed2",
   "metadata": {},
   "source": [
    "## PDxN requirements"
   ]
  },
  {
   "cell_type": "code",
   "execution_count": 2,
   "id": "f0454fcf-8b34-4da8-b4d9-3403bd4e27f8",
   "metadata": {},
   "outputs": [],
   "source": [
    "# Dataset name\n",
    "dsname<-\"gtextoil_iBrain\" # Dataset name (will be used in the config file) \n",
    "\n",
    "# Filtering parameters\n",
    "min_cts<-3 # Minimum number of gene counts\n",
    "min_sam_cts<-1 # Minimum number of samples with min_cts\n",
    "min_sam_tissue<-10 # Minimum number of samples per tissue"
   ]
  },
  {
   "cell_type": "code",
   "execution_count": 3,
   "id": "8618c313-d8b3-4b9a-b2b5-e4d203ab4eeb",
   "metadata": {},
   "outputs": [
    {
     "name": "stderr",
     "output_type": "stream",
     "text": [
      "Creating dataset directory at ../../input/gene_expression/gtextoil_iBrain\n",
      "\n"
     ]
    }
   ],
   "source": [
    "# Directory structure - DO NOT CHANGE\n",
    "output_dir <- file.path(\"../../input/gene_expression\",dsname)\n",
    "metadata_file <- file.path(output_dir,paste0(\"metadata_\",dsname,\".csv\"))\n",
    "gene_file <- file.path(output_dir,paste0(\"genes_\",dsname,\".csv\"))\n",
    "create_directory(output_dir)\n",
    "message(\"Creating dataset directory at \",output_dir)"
   ]
  },
  {
   "cell_type": "code",
   "execution_count": 4,
   "id": "0c94cb63-57cf-4392-a147-ceeda1d7667f",
   "metadata": {},
   "outputs": [],
   "source": [
    "# Specify the names of the primary sites that will be included in the new dataset\n",
    "ps_list<-c('Blood','BloodVessel','BoneMarrow','Brain','Nerve','Pituitary','Spleen')"
   ]
  },
  {
   "cell_type": "markdown",
   "id": "53b105e5-7bd3-46d4-beb8-f0e1b6beb6b9",
   "metadata": {},
   "source": [
    "## Pre-processed inputs\n",
    "\n",
    "Load the pre-processed files for the whole GTex toil dataset generated in the notebook `prep_background-gtex.ipynb`"
   ]
  },
  {
   "cell_type": "code",
   "execution_count": 5,
   "id": "bd620820-8f40-4bfc-b3ab-05091ed833a9",
   "metadata": {},
   "outputs": [],
   "source": [
    "# Pre-processed GTex counts and metadata files\n",
    "indir<-\"~/projects/pdxn_2.0/data/background/gtex_toil\"\n",
    "metafile<-\"GTEX_phenotype\"\n",
    "cts.proc<-read.table(file.path(indir,\"gtex_RSEM_Hugo_norm_count_entrez_mapped.csv\")) \n",
    "meta<-read.table(paste0(indir,\"/\",metafile,\"_processed.tsv\"),header = T)"
   ]
  },
  {
   "cell_type": "code",
   "execution_count": 6,
   "id": "c682759c-d681-4cdc-92a3-ddb29d77b6ed",
   "metadata": {},
   "outputs": [
    {
     "name": "stderr",
     "output_type": "stream",
     "text": [
      "Original dataset has 7851 samples\n",
      "\n"
     ]
    }
   ],
   "source": [
    "message('Original dataset has ',ncol(cts.proc),' samples')"
   ]
  },
  {
   "cell_type": "code",
   "execution_count": 7,
   "id": "c7e11c94-6d56-47fd-aed7-248524300172",
   "metadata": {},
   "outputs": [
    {
     "data": {
      "text/html": [
       "<style>\n",
       ".list-inline {list-style: none; margin:0; padding: 0}\n",
       ".list-inline>li {display: inline-block}\n",
       ".list-inline>li:not(:last-child)::after {content: \"\\00b7\"; padding: 0 .5ex}\n",
       "</style>\n",
       "<ol class=list-inline><li>9778</li><li>7</li></ol>\n"
      ],
      "text/latex": [
       "\\begin{enumerate*}\n",
       "\\item 9778\n",
       "\\item 7\n",
       "\\end{enumerate*}\n"
      ],
      "text/markdown": [
       "1. 9778\n",
       "2. 7\n",
       "\n",
       "\n"
      ],
      "text/plain": [
       "[1] 9778    7"
      ]
     },
     "metadata": {},
     "output_type": "display_data"
    }
   ],
   "source": [
    "dim(meta)"
   ]
  },
  {
   "cell_type": "markdown",
   "id": "27c88bd1-4f8f-42fc-8caf-e1a0faab7ec4",
   "metadata": {},
   "source": [
    "## Split dataset by tissue\n",
    "\n",
    "In this section we take the processed input files (counts and metadata), extract the samples corresponding to the subset of tissues, and then split the global count matrix into different tissues to create the dataset structure required for PxN.\n",
    "\n"
   ]
  },
  {
   "cell_type": "code",
   "execution_count": 8,
   "id": "bd4ddf88-fc64-47d6-8999-aad1bcf5da71",
   "metadata": {},
   "outputs": [
    {
     "name": "stderr",
     "output_type": "stream",
     "text": [
      "Filtered dataset contains 2746 samples\n",
      "\n"
     ]
    }
   ],
   "source": [
    "# Filter samples corresponding to selected tissues \n",
    "meta.filt<-meta %>%\n",
    "            mutate(Sample_name = gsub(\"-\",\".\",Sample)) %>%\n",
    "            filter(Sample_name %in% colnames(cts.proc)) %>% # remove samples without tissue annotation\n",
    "            filter(primary_site %in% ps_list) # extract desired subset of primary sites\n",
    "        \n",
    "cts.proc.filt<-cts.proc[,meta.filt$Sample_name] # Filter counts to match samples in metadata\n",
    "message('Filtered dataset contains ',ncol(cts.proc.filt),' samples')"
   ]
  },
  {
   "cell_type": "code",
   "execution_count": 10,
   "id": "ec2dbaed-1bd6-43f8-91ed-e639d4417350",
   "metadata": {},
   "outputs": [],
   "source": [
    "# Build list of count matrices by tissue\n",
    "cts.df <- meta.filt %>%\n",
    "            dplyr::select(tissue,Sample_name) %>%\n",
    "            group_by(tissue) %>%\n",
    "            tidyr::nest(samples=c(Sample_name)) %>%\n",
    "            ungroup() %>%\n",
    "            mutate(data=purrr::map(samples,function(s,...){ cts.proc.filt[,s[[1]]] } )) %>%\n",
    "            mutate(nsamples=length(samples))%>%\n",
    "            filter(nsamples>=min_sam_tissue) %>%\n",
    "            dplyr::select(tissue,data)\n",
    "cts.list <- cts.df$data\n",
    "names(cts.list) <- cts.df$tissue"
   ]
  },
  {
   "cell_type": "code",
   "execution_count": 11,
   "id": "78e0b1c9-e396-4da9-94c4-8c860a5879f4",
   "metadata": {},
   "outputs": [
    {
     "name": "stderr",
     "output_type": "stream",
     "text": [
      "Gene universe contains 18994 genes\n",
      "\n",
      "Wrote gene universe to file ../../input/gene_expression/gtextoil_iBrain/genes_gtextoil_iBrain.csv\n",
      "\n",
      "Returning filtered matrices and gene universe\n",
      "\n"
     ]
    }
   ],
   "source": [
    "# Filter gene expression matrices - this step creates the gene universe file internally\n",
    "cts.list.filt <- filter_tissue_expr_list(cts_list = cts.list,\n",
    "                                         min_counts = min_cts,\n",
    "                                         min_samples = min_sam_cts,\n",
    "                                         gu_file = gene_file)\n",
    "names(cts.list.filt$filtered_cts) <- names(cts.list)"
   ]
  },
  {
   "cell_type": "code",
   "execution_count": 12,
   "id": "ab88aee9-4e01-444c-b18d-f146c6dcb83b",
   "metadata": {},
   "outputs": [],
   "source": [
    "# Create tissue files  - the function writes the files internally \n",
    "res <- tissue_list_to_dirs(cts_list = cts.list.filt$filtered_cts,\n",
    "                           output_dir = output_dir,\n",
    "                           meta_file = metadata_file)"
   ]
  },
  {
   "cell_type": "code",
   "execution_count": 13,
   "id": "287c48e5-1887-4d32-83e6-8a6f7ae2a1cd",
   "metadata": {
    "scrolled": true
   },
   "outputs": [
    {
     "name": "stdout",
     "output_type": "stream",
     "text": [
      "List of 2\n",
      " $ ndirs: int 22\n",
      " $ sizes:List of 22\n",
      "  ..$ BloodVessel_ArteryTibial                : int [1:2] 18994 281\n",
      "  ..$ BloodVessel_ArteryCoronary              : int [1:2] 18994 118\n",
      "  ..$ Brain_BrainCortex                       : int [1:2] 18994 105\n",
      "  ..$ Nerve_NerveTibial                       : int [1:2] 18994 278\n",
      "  ..$ Spleen                                  : int [1:2] 18994 100\n",
      "  ..$ Pituitary                               : int [1:2] 18994 107\n",
      "  ..$ Brain_BrainCerebellum                   : int [1:2] 18994 119\n",
      "  ..$ Blood_WholeBlood                        : int [1:2] 18994 337\n",
      "  ..$ Blood_CellsEBV-transformedlymphocytes   : int [1:2] 18994 107\n",
      "  ..$ BloodVessel_ArteryAorta                 : int [1:2] 18994 207\n",
      "  ..$ Brain_BrainSubstantianigra              : int [1:2] 18994 57\n",
      "  ..$ Brain_BrainAnteriorcingulatecortex-BA24 : int [1:2] 18994 83\n",
      "  ..$ Brain_BrainFrontalCortex-BA9            : int [1:2] 18994 95\n",
      "  ..$ Brain_BrainCerebellarHemisphere         : int [1:2] 18994 93\n",
      "  ..$ Brain_BrainCaudate-basalganglia         : int [1:2] 18994 109\n",
      "  ..$ Brain_BrainNucleusaccumbens-basalganglia: int [1:2] 18994 104\n",
      "  ..$ Brain_BrainPutamen-basalganglia         : int [1:2] 18994 81\n",
      "  ..$ Brain_BrainHypothalamus                 : int [1:2] 18994 82\n",
      "  ..$ Brain_BrainHippocampus                  : int [1:2] 18994 84\n",
      "  ..$ Brain_BrainSpinalcord-cervicalc-1       : int [1:2] 18994 60\n",
      "  ..$ Brain_BrainAmygdala                     : int [1:2] 18994 69\n",
      "  ..$ BoneMarrow_CellsLeukemiacellline-CML    : int [1:2] 18994 70\n"
     ]
    }
   ],
   "source": [
    "# Verify that the matrices have the correct dimensions and the splitting was successful\n",
    "str(res)"
   ]
  },
  {
   "cell_type": "code",
   "execution_count": null,
   "id": "ca535bc2-8b98-4a38-beae-181c7d5463c9",
   "metadata": {},
   "outputs": [],
   "source": []
  }
 ],
 "metadata": {
  "kernelspec": {
   "display_name": "R",
   "language": "R",
   "name": "ir"
  },
  "language_info": {
   "codemirror_mode": "r",
   "file_extension": ".r",
   "mimetype": "text/x-r-source",
   "name": "R",
   "pygments_lexer": "r",
   "version": "4.4.1"
  }
 },
 "nbformat": 4,
 "nbformat_minor": 5
}
